{
 "cells": [
  {
   "cell_type": "code",
   "execution_count": 68,
   "id": "4ecf12ef-8143-4abf-b75f-04eff81ada51",
   "metadata": {},
   "outputs": [],
   "source": [
    "import numpy as np\n",
    "import pandas as pd\n",
    "import matplotlib.pyplot as plt\n",
    "import yfinance as yf\n",
    "from datetime import datetime"
   ]
  },
  {
   "cell_type": "markdown",
   "id": "8061dc80-6e97-4a99-a6f9-55300e86dfe4",
   "metadata": {},
   "source": [
    "DATA COLLECTION"
   ]
  },
  {
   "cell_type": "code",
   "execution_count": 2,
   "id": "31ad60b6-81aa-4218-80e8-20a747ed946c",
   "metadata": {},
   "outputs": [
    {
     "name": "stderr",
     "output_type": "stream",
     "text": [
      "C:\\Users\\sahil\\AppData\\Local\\Temp\\ipykernel_31484\\823477014.py:6: FutureWarning: YF.download() has changed argument auto_adjust default to True\n",
      "  df = yf.download(ticker, start, end)\n",
      "[*********************100%***********************]  1 of 1 completed\n"
     ]
    },
    {
     "data": {
      "text/html": [
       "<div>\n",
       "<style scoped>\n",
       "    .dataframe tbody tr th:only-of-type {\n",
       "        vertical-align: middle;\n",
       "    }\n",
       "\n",
       "    .dataframe tbody tr th {\n",
       "        vertical-align: top;\n",
       "    }\n",
       "\n",
       "    .dataframe thead tr th {\n",
       "        text-align: left;\n",
       "    }\n",
       "\n",
       "    .dataframe thead tr:last-of-type th {\n",
       "        text-align: right;\n",
       "    }\n",
       "</style>\n",
       "<table border=\"1\" class=\"dataframe\">\n",
       "  <thead>\n",
       "    <tr>\n",
       "      <th>Price</th>\n",
       "      <th>Close</th>\n",
       "      <th>High</th>\n",
       "      <th>Low</th>\n",
       "      <th>Open</th>\n",
       "      <th>Volume</th>\n",
       "    </tr>\n",
       "    <tr>\n",
       "      <th>Ticker</th>\n",
       "      <th>AAPL</th>\n",
       "      <th>AAPL</th>\n",
       "      <th>AAPL</th>\n",
       "      <th>AAPL</th>\n",
       "      <th>AAPL</th>\n",
       "    </tr>\n",
       "    <tr>\n",
       "      <th>Date</th>\n",
       "      <th></th>\n",
       "      <th></th>\n",
       "      <th></th>\n",
       "      <th></th>\n",
       "      <th></th>\n",
       "    </tr>\n",
       "  </thead>\n",
       "  <tbody>\n",
       "    <tr>\n",
       "      <th>2015-08-24</th>\n",
       "      <td>23.173700</td>\n",
       "      <td>24.450142</td>\n",
       "      <td>20.674751</td>\n",
       "      <td>21.319714</td>\n",
       "      <td>648825200</td>\n",
       "    </tr>\n",
       "    <tr>\n",
       "      <th>2015-08-25</th>\n",
       "      <td>23.313032</td>\n",
       "      <td>24.969260</td>\n",
       "      <td>23.259098</td>\n",
       "      <td>24.969260</td>\n",
       "      <td>414406400</td>\n",
       "    </tr>\n",
       "    <tr>\n",
       "      <th>2015-08-26</th>\n",
       "      <td>24.650146</td>\n",
       "      <td>24.695091</td>\n",
       "      <td>23.607420</td>\n",
       "      <td>24.065859</td>\n",
       "      <td>387098400</td>\n",
       "    </tr>\n",
       "    <tr>\n",
       "      <th>2015-08-27</th>\n",
       "      <td>25.376009</td>\n",
       "      <td>25.447921</td>\n",
       "      <td>24.724305</td>\n",
       "      <td>25.220950</td>\n",
       "      <td>338464400</td>\n",
       "    </tr>\n",
       "    <tr>\n",
       "      <th>2015-08-28</th>\n",
       "      <td>25.459160</td>\n",
       "      <td>25.463654</td>\n",
       "      <td>25.065890</td>\n",
       "      <td>25.207467</td>\n",
       "      <td>212657600</td>\n",
       "    </tr>\n",
       "    <tr>\n",
       "      <th>...</th>\n",
       "      <td>...</td>\n",
       "      <td>...</td>\n",
       "      <td>...</td>\n",
       "      <td>...</td>\n",
       "      <td>...</td>\n",
       "    </tr>\n",
       "    <tr>\n",
       "      <th>2025-08-18</th>\n",
       "      <td>230.889999</td>\n",
       "      <td>233.119995</td>\n",
       "      <td>230.110001</td>\n",
       "      <td>231.699997</td>\n",
       "      <td>37476200</td>\n",
       "    </tr>\n",
       "    <tr>\n",
       "      <th>2025-08-19</th>\n",
       "      <td>230.559998</td>\n",
       "      <td>232.869995</td>\n",
       "      <td>229.350006</td>\n",
       "      <td>231.279999</td>\n",
       "      <td>39402600</td>\n",
       "    </tr>\n",
       "    <tr>\n",
       "      <th>2025-08-20</th>\n",
       "      <td>226.009995</td>\n",
       "      <td>230.470001</td>\n",
       "      <td>225.770004</td>\n",
       "      <td>229.979996</td>\n",
       "      <td>42263900</td>\n",
       "    </tr>\n",
       "    <tr>\n",
       "      <th>2025-08-21</th>\n",
       "      <td>224.899994</td>\n",
       "      <td>226.520004</td>\n",
       "      <td>223.779999</td>\n",
       "      <td>226.270004</td>\n",
       "      <td>30621200</td>\n",
       "    </tr>\n",
       "    <tr>\n",
       "      <th>2025-08-22</th>\n",
       "      <td>227.759995</td>\n",
       "      <td>229.089996</td>\n",
       "      <td>225.410004</td>\n",
       "      <td>226.169998</td>\n",
       "      <td>42445300</td>\n",
       "    </tr>\n",
       "  </tbody>\n",
       "</table>\n",
       "<p>2515 rows × 5 columns</p>\n",
       "</div>"
      ],
      "text/plain": [
       "Price            Close        High         Low        Open     Volume\n",
       "Ticker            AAPL        AAPL        AAPL        AAPL       AAPL\n",
       "Date                                                                 \n",
       "2015-08-24   23.173700   24.450142   20.674751   21.319714  648825200\n",
       "2015-08-25   23.313032   24.969260   23.259098   24.969260  414406400\n",
       "2015-08-26   24.650146   24.695091   23.607420   24.065859  387098400\n",
       "2015-08-27   25.376009   25.447921   24.724305   25.220950  338464400\n",
       "2015-08-28   25.459160   25.463654   25.065890   25.207467  212657600\n",
       "...                ...         ...         ...         ...        ...\n",
       "2025-08-18  230.889999  233.119995  230.110001  231.699997   37476200\n",
       "2025-08-19  230.559998  232.869995  229.350006  231.279999   39402600\n",
       "2025-08-20  226.009995  230.470001  225.770004  229.979996   42263900\n",
       "2025-08-21  224.899994  226.520004  223.779999  226.270004   30621200\n",
       "2025-08-22  227.759995  229.089996  225.410004  226.169998   42445300\n",
       "\n",
       "[2515 rows x 5 columns]"
      ]
     },
     "execution_count": 2,
     "metadata": {},
     "output_type": "execute_result"
    }
   ],
   "source": [
    "now = datetime.now()\n",
    "\n",
    "start = datetime(now.year-10,now.month,now.day)\n",
    "end = now\n",
    "ticker = 'AAPL'\n",
    "df = yf.download(ticker, start, end)\n",
    "df"
   ]
  },
  {
   "cell_type": "code",
   "execution_count": 3,
   "id": "e8bee277-3b6f-47b7-bae7-bb393d0eee29",
   "metadata": {},
   "outputs": [
    {
     "data": {
      "text/plain": [
       "pandas.core.frame.DataFrame"
      ]
     },
     "execution_count": 3,
     "metadata": {},
     "output_type": "execute_result"
    }
   ],
   "source": [
    "type(df)"
   ]
  },
  {
   "cell_type": "code",
   "execution_count": 4,
   "id": "045e3313-ecd1-4cb0-ac3e-181dfa40b974",
   "metadata": {},
   "outputs": [
    {
     "data": {
      "text/plain": [
       "(2515, 5)"
      ]
     },
     "execution_count": 4,
     "metadata": {},
     "output_type": "execute_result"
    }
   ],
   "source": [
    "df.shape"
   ]
  },
  {
   "cell_type": "code",
   "execution_count": 5,
   "id": "186d9b94-5a3c-4b4e-a7c7-ee7dc07646ff",
   "metadata": {},
   "outputs": [
    {
     "data": {
      "text/plain": [
       "Price   Ticker\n",
       "Close   AAPL      0\n",
       "High    AAPL      0\n",
       "Low     AAPL      0\n",
       "Open    AAPL      0\n",
       "Volume  AAPL      0\n",
       "dtype: int64"
      ]
     },
     "execution_count": 5,
     "metadata": {},
     "output_type": "execute_result"
    }
   ],
   "source": [
    "df.isna().sum() #check for null value "
   ]
  },
  {
   "cell_type": "code",
   "execution_count": 6,
   "id": "59ec66d5-026b-424a-a99a-66f3e42400be",
   "metadata": {},
   "outputs": [
    {
     "data": {
      "text/html": [
       "<div>\n",
       "<style scoped>\n",
       "    .dataframe tbody tr th:only-of-type {\n",
       "        vertical-align: middle;\n",
       "    }\n",
       "\n",
       "    .dataframe tbody tr th {\n",
       "        vertical-align: top;\n",
       "    }\n",
       "\n",
       "    .dataframe thead tr th {\n",
       "        text-align: left;\n",
       "    }\n",
       "</style>\n",
       "<table border=\"1\" class=\"dataframe\">\n",
       "  <thead>\n",
       "    <tr>\n",
       "      <th>Price</th>\n",
       "      <th>Close</th>\n",
       "      <th>High</th>\n",
       "      <th>Low</th>\n",
       "      <th>Open</th>\n",
       "      <th>Volume</th>\n",
       "    </tr>\n",
       "    <tr>\n",
       "      <th>Ticker</th>\n",
       "      <th>AAPL</th>\n",
       "      <th>AAPL</th>\n",
       "      <th>AAPL</th>\n",
       "      <th>AAPL</th>\n",
       "      <th>AAPL</th>\n",
       "    </tr>\n",
       "  </thead>\n",
       "  <tbody>\n",
       "    <tr>\n",
       "      <th>count</th>\n",
       "      <td>2515.000000</td>\n",
       "      <td>2515.000000</td>\n",
       "      <td>2515.000000</td>\n",
       "      <td>2515.000000</td>\n",
       "      <td>2.515000e+03</td>\n",
       "    </tr>\n",
       "    <tr>\n",
       "      <th>mean</th>\n",
       "      <td>105.964630</td>\n",
       "      <td>107.029459</td>\n",
       "      <td>104.791391</td>\n",
       "      <td>105.864675</td>\n",
       "      <td>1.072366e+08</td>\n",
       "    </tr>\n",
       "    <tr>\n",
       "      <th>std</th>\n",
       "      <td>69.503130</td>\n",
       "      <td>70.187336</td>\n",
       "      <td>68.740314</td>\n",
       "      <td>69.431737</td>\n",
       "      <td>6.176270e+07</td>\n",
       "    </tr>\n",
       "    <tr>\n",
       "      <th>min</th>\n",
       "      <td>20.624050</td>\n",
       "      <td>20.927682</td>\n",
       "      <td>20.425436</td>\n",
       "      <td>20.546432</td>\n",
       "      <td>2.323470e+07</td>\n",
       "    </tr>\n",
       "    <tr>\n",
       "      <th>25%</th>\n",
       "      <td>40.008661</td>\n",
       "      <td>40.400929</td>\n",
       "      <td>39.673054</td>\n",
       "      <td>39.979280</td>\n",
       "      <td>6.549675e+07</td>\n",
       "    </tr>\n",
       "    <tr>\n",
       "      <th>50%</th>\n",
       "      <td>108.166222</td>\n",
       "      <td>109.780901</td>\n",
       "      <td>106.181849</td>\n",
       "      <td>108.574755</td>\n",
       "      <td>9.277080e+07</td>\n",
       "    </tr>\n",
       "    <tr>\n",
       "      <th>75%</th>\n",
       "      <td>167.039505</td>\n",
       "      <td>168.387286</td>\n",
       "      <td>165.519282</td>\n",
       "      <td>167.280742</td>\n",
       "      <td>1.302284e+08</td>\n",
       "    </tr>\n",
       "    <tr>\n",
       "      <th>max</th>\n",
       "      <td>258.103729</td>\n",
       "      <td>259.179926</td>\n",
       "      <td>256.718662</td>\n",
       "      <td>257.276679</td>\n",
       "      <td>6.488252e+08</td>\n",
       "    </tr>\n",
       "  </tbody>\n",
       "</table>\n",
       "</div>"
      ],
      "text/plain": [
       "Price         Close         High          Low         Open        Volume\n",
       "Ticker         AAPL         AAPL         AAPL         AAPL          AAPL\n",
       "count   2515.000000  2515.000000  2515.000000  2515.000000  2.515000e+03\n",
       "mean     105.964630   107.029459   104.791391   105.864675  1.072366e+08\n",
       "std       69.503130    70.187336    68.740314    69.431737  6.176270e+07\n",
       "min       20.624050    20.927682    20.425436    20.546432  2.323470e+07\n",
       "25%       40.008661    40.400929    39.673054    39.979280  6.549675e+07\n",
       "50%      108.166222   109.780901   106.181849   108.574755  9.277080e+07\n",
       "75%      167.039505   168.387286   165.519282   167.280742  1.302284e+08\n",
       "max      258.103729   259.179926   256.718662   257.276679  6.488252e+08"
      ]
     },
     "execution_count": 6,
     "metadata": {},
     "output_type": "execute_result"
    }
   ],
   "source": [
    "df.describe()"
   ]
  },
  {
   "cell_type": "code",
   "execution_count": 7,
   "id": "c1651bcf-ed6f-41ea-b646-4fc4e3ec7799",
   "metadata": {},
   "outputs": [
    {
     "data": {
      "text/plain": [
       "Price   Ticker\n",
       "Close   AAPL      float64\n",
       "High    AAPL      float64\n",
       "Low     AAPL      float64\n",
       "Open    AAPL      float64\n",
       "Volume  AAPL        int64\n",
       "dtype: object"
      ]
     },
     "execution_count": 7,
     "metadata": {},
     "output_type": "execute_result"
    }
   ],
   "source": [
    "df.dtypes"
   ]
  },
  {
   "cell_type": "code",
   "execution_count": 8,
   "id": "ff256c76-8d4d-405a-af39-8df90a5cfd17",
   "metadata": {},
   "outputs": [
    {
     "data": {
      "text/html": [
       "<div>\n",
       "<style scoped>\n",
       "    .dataframe tbody tr th:only-of-type {\n",
       "        vertical-align: middle;\n",
       "    }\n",
       "\n",
       "    .dataframe tbody tr th {\n",
       "        vertical-align: top;\n",
       "    }\n",
       "\n",
       "    .dataframe thead tr th {\n",
       "        text-align: left;\n",
       "    }\n",
       "\n",
       "    .dataframe thead tr:last-of-type th {\n",
       "        text-align: right;\n",
       "    }\n",
       "</style>\n",
       "<table border=\"1\" class=\"dataframe\">\n",
       "  <thead>\n",
       "    <tr>\n",
       "      <th>Price</th>\n",
       "      <th>Close</th>\n",
       "      <th>High</th>\n",
       "      <th>Low</th>\n",
       "      <th>Open</th>\n",
       "      <th>Volume</th>\n",
       "    </tr>\n",
       "    <tr>\n",
       "      <th>Ticker</th>\n",
       "      <th>AAPL</th>\n",
       "      <th>AAPL</th>\n",
       "      <th>AAPL</th>\n",
       "      <th>AAPL</th>\n",
       "      <th>AAPL</th>\n",
       "    </tr>\n",
       "    <tr>\n",
       "      <th>Date</th>\n",
       "      <th></th>\n",
       "      <th></th>\n",
       "      <th></th>\n",
       "      <th></th>\n",
       "      <th></th>\n",
       "    </tr>\n",
       "  </thead>\n",
       "  <tbody>\n",
       "    <tr>\n",
       "      <th>2015-08-24</th>\n",
       "      <td>23.173700</td>\n",
       "      <td>24.450142</td>\n",
       "      <td>20.674751</td>\n",
       "      <td>21.319714</td>\n",
       "      <td>648825200</td>\n",
       "    </tr>\n",
       "    <tr>\n",
       "      <th>2015-08-25</th>\n",
       "      <td>23.313032</td>\n",
       "      <td>24.969260</td>\n",
       "      <td>23.259098</td>\n",
       "      <td>24.969260</td>\n",
       "      <td>414406400</td>\n",
       "    </tr>\n",
       "    <tr>\n",
       "      <th>2015-08-26</th>\n",
       "      <td>24.650146</td>\n",
       "      <td>24.695091</td>\n",
       "      <td>23.607420</td>\n",
       "      <td>24.065859</td>\n",
       "      <td>387098400</td>\n",
       "    </tr>\n",
       "    <tr>\n",
       "      <th>2015-08-27</th>\n",
       "      <td>25.376009</td>\n",
       "      <td>25.447921</td>\n",
       "      <td>24.724305</td>\n",
       "      <td>25.220950</td>\n",
       "      <td>338464400</td>\n",
       "    </tr>\n",
       "    <tr>\n",
       "      <th>2015-08-28</th>\n",
       "      <td>25.459160</td>\n",
       "      <td>25.463654</td>\n",
       "      <td>25.065890</td>\n",
       "      <td>25.207467</td>\n",
       "      <td>212657600</td>\n",
       "    </tr>\n",
       "  </tbody>\n",
       "</table>\n",
       "</div>"
      ],
      "text/plain": [
       "Price           Close       High        Low       Open     Volume\n",
       "Ticker           AAPL       AAPL       AAPL       AAPL       AAPL\n",
       "Date                                                             \n",
       "2015-08-24  23.173700  24.450142  20.674751  21.319714  648825200\n",
       "2015-08-25  23.313032  24.969260  23.259098  24.969260  414406400\n",
       "2015-08-26  24.650146  24.695091  23.607420  24.065859  387098400\n",
       "2015-08-27  25.376009  25.447921  24.724305  25.220950  338464400\n",
       "2015-08-28  25.459160  25.463654  25.065890  25.207467  212657600"
      ]
     },
     "execution_count": 8,
     "metadata": {},
     "output_type": "execute_result"
    }
   ],
   "source": [
    "df.head()"
   ]
  },
  {
   "cell_type": "code",
   "execution_count": 9,
   "id": "4ff46694-0c85-40ef-bb00-543967fd4b6e",
   "metadata": {},
   "outputs": [],
   "source": [
    "df=df.reset_index()"
   ]
  },
  {
   "cell_type": "code",
   "execution_count": 10,
   "id": "eec5d2bc-0538-4fa3-b214-9ac5d0db9c60",
   "metadata": {},
   "outputs": [
    {
     "data": {
      "text/html": [
       "<div>\n",
       "<style scoped>\n",
       "    .dataframe tbody tr th:only-of-type {\n",
       "        vertical-align: middle;\n",
       "    }\n",
       "\n",
       "    .dataframe tbody tr th {\n",
       "        vertical-align: top;\n",
       "    }\n",
       "\n",
       "    .dataframe thead tr th {\n",
       "        text-align: left;\n",
       "    }\n",
       "</style>\n",
       "<table border=\"1\" class=\"dataframe\">\n",
       "  <thead>\n",
       "    <tr>\n",
       "      <th>Price</th>\n",
       "      <th>Date</th>\n",
       "      <th>Close</th>\n",
       "      <th>High</th>\n",
       "      <th>Low</th>\n",
       "      <th>Open</th>\n",
       "      <th>Volume</th>\n",
       "    </tr>\n",
       "    <tr>\n",
       "      <th>Ticker</th>\n",
       "      <th></th>\n",
       "      <th>AAPL</th>\n",
       "      <th>AAPL</th>\n",
       "      <th>AAPL</th>\n",
       "      <th>AAPL</th>\n",
       "      <th>AAPL</th>\n",
       "    </tr>\n",
       "  </thead>\n",
       "  <tbody>\n",
       "    <tr>\n",
       "      <th>0</th>\n",
       "      <td>2015-08-24</td>\n",
       "      <td>23.173700</td>\n",
       "      <td>24.450142</td>\n",
       "      <td>20.674751</td>\n",
       "      <td>21.319714</td>\n",
       "      <td>648825200</td>\n",
       "    </tr>\n",
       "    <tr>\n",
       "      <th>1</th>\n",
       "      <td>2015-08-25</td>\n",
       "      <td>23.313032</td>\n",
       "      <td>24.969260</td>\n",
       "      <td>23.259098</td>\n",
       "      <td>24.969260</td>\n",
       "      <td>414406400</td>\n",
       "    </tr>\n",
       "    <tr>\n",
       "      <th>2</th>\n",
       "      <td>2015-08-26</td>\n",
       "      <td>24.650146</td>\n",
       "      <td>24.695091</td>\n",
       "      <td>23.607420</td>\n",
       "      <td>24.065859</td>\n",
       "      <td>387098400</td>\n",
       "    </tr>\n",
       "    <tr>\n",
       "      <th>3</th>\n",
       "      <td>2015-08-27</td>\n",
       "      <td>25.376009</td>\n",
       "      <td>25.447921</td>\n",
       "      <td>24.724305</td>\n",
       "      <td>25.220950</td>\n",
       "      <td>338464400</td>\n",
       "    </tr>\n",
       "    <tr>\n",
       "      <th>4</th>\n",
       "      <td>2015-08-28</td>\n",
       "      <td>25.459160</td>\n",
       "      <td>25.463654</td>\n",
       "      <td>25.065890</td>\n",
       "      <td>25.207467</td>\n",
       "      <td>212657600</td>\n",
       "    </tr>\n",
       "  </tbody>\n",
       "</table>\n",
       "</div>"
      ],
      "text/plain": [
       "Price        Date      Close       High        Low       Open     Volume\n",
       "Ticker                  AAPL       AAPL       AAPL       AAPL       AAPL\n",
       "0      2015-08-24  23.173700  24.450142  20.674751  21.319714  648825200\n",
       "1      2015-08-25  23.313032  24.969260  23.259098  24.969260  414406400\n",
       "2      2015-08-26  24.650146  24.695091  23.607420  24.065859  387098400\n",
       "3      2015-08-27  25.376009  25.447921  24.724305  25.220950  338464400\n",
       "4      2015-08-28  25.459160  25.463654  25.065890  25.207467  212657600"
      ]
     },
     "execution_count": 10,
     "metadata": {},
     "output_type": "execute_result"
    }
   ],
   "source": [
    "df.head()"
   ]
  },
  {
   "cell_type": "code",
   "execution_count": 11,
   "id": "6ad540b9-f5cd-4544-900e-77b814f8665e",
   "metadata": {},
   "outputs": [
    {
     "data": {
      "text/plain": [
       "Text(0, 0.5, 'Close Price')"
      ]
     },
     "execution_count": 11,
     "metadata": {},
     "output_type": "execute_result"
    },
    {
     "data": {
      "image/png": "[encoded data removed]",
      "text/plain": [
       "<Figure size 1200x500 with 1 Axes>"
      ]
     },
     "metadata": {},
     "output_type": "display_data"
    }
   ],
   "source": [
    "plt.figure(figsize=(12,5))\n",
    "plt.plot(df.Close)\n",
    "plt.title(ticker)\n",
    "plt.xlabel('Days')\n",
    "plt.ylabel('Close Price')"
   ]
  },
  {
   "cell_type": "markdown",
   "id": "8d542a1f-eafb-408a-9d91-8826e900ea0e",
   "metadata": {},
   "source": [
    "Feature Engineering"
   ]
  },
  {
   "cell_type": "code",
   "execution_count": 12,
   "id": "04a7571e-46d4-4626-941b-f3a625d4fa5e",
   "metadata": {},
   "outputs": [],
   "source": [
    "# 10, 20, 30, 40, 50, 60, 70, 80, 90, 100\n",
    "\n",
    "# MA of 5 days ==> null null null null 30  40 "
   ]
  },
  {
   "cell_type": "code",
   "execution_count": 13,
   "id": "79459a1c-3bf5-41a2-a1c8-b7548f5e3d89",
   "metadata": {},
   "outputs": [
    {
     "name": "stdout",
     "output_type": "stream",
     "text": [
      "50.0\n"
     ]
    }
   ],
   "source": [
    "temp_df=[10, 20, 30, 40, 50, 60, 70, 80, 90, 100]\n",
    "print(sum(temp_df[2:7])/5)"
   ]
  },
  {
   "cell_type": "code",
   "execution_count": 14,
   "id": "4cbd2410-ab27-42b6-9cb5-0ed3222c0ba9",
   "metadata": {},
   "outputs": [
    {
     "data": {
      "text/html": [
       "<div>\n",
       "<style scoped>\n",
       "    .dataframe tbody tr th:only-of-type {\n",
       "        vertical-align: middle;\n",
       "    }\n",
       "\n",
       "    .dataframe tbody tr th {\n",
       "        vertical-align: top;\n",
       "    }\n",
       "\n",
       "    .dataframe thead th {\n",
       "        text-align: right;\n",
       "    }\n",
       "</style>\n",
       "<table border=\"1\" class=\"dataframe\">\n",
       "  <thead>\n",
       "    <tr style=\"text-align: right;\">\n",
       "      <th></th>\n",
       "      <th>0</th>\n",
       "    </tr>\n",
       "  </thead>\n",
       "  <tbody>\n",
       "    <tr>\n",
       "      <th>0</th>\n",
       "      <td>10</td>\n",
       "    </tr>\n",
       "    <tr>\n",
       "      <th>1</th>\n",
       "      <td>20</td>\n",
       "    </tr>\n",
       "    <tr>\n",
       "      <th>2</th>\n",
       "      <td>30</td>\n",
       "    </tr>\n",
       "    <tr>\n",
       "      <th>3</th>\n",
       "      <td>40</td>\n",
       "    </tr>\n",
       "    <tr>\n",
       "      <th>4</th>\n",
       "      <td>50</td>\n",
       "    </tr>\n",
       "    <tr>\n",
       "      <th>5</th>\n",
       "      <td>60</td>\n",
       "    </tr>\n",
       "    <tr>\n",
       "      <th>6</th>\n",
       "      <td>70</td>\n",
       "    </tr>\n",
       "    <tr>\n",
       "      <th>7</th>\n",
       "      <td>80</td>\n",
       "    </tr>\n",
       "    <tr>\n",
       "      <th>8</th>\n",
       "      <td>90</td>\n",
       "    </tr>\n",
       "    <tr>\n",
       "      <th>9</th>\n",
       "      <td>100</td>\n",
       "    </tr>\n",
       "  </tbody>\n",
       "</table>\n",
       "</div>"
      ],
      "text/plain": [
       "     0\n",
       "0   10\n",
       "1   20\n",
       "2   30\n",
       "3   40\n",
       "4   50\n",
       "5   60\n",
       "6   70\n",
       "7   80\n",
       "8   90\n",
       "9  100"
      ]
     },
     "execution_count": 14,
     "metadata": {},
     "output_type": "execute_result"
    }
   ],
   "source": [
    "df1 = pd.DataFrame([10, 20, 30, 40, 50, 60, 70, 80, 90, 100])\n",
    "df1"
   ]
  },
  {
   "cell_type": "code",
   "execution_count": 15,
   "id": "4830334d-a346-4421-aa1e-916e5b42e368",
   "metadata": {},
   "outputs": [
    {
     "data": {
      "text/html": [
       "<div>\n",
       "<style scoped>\n",
       "    .dataframe tbody tr th:only-of-type {\n",
       "        vertical-align: middle;\n",
       "    }\n",
       "\n",
       "    .dataframe tbody tr th {\n",
       "        vertical-align: top;\n",
       "    }\n",
       "\n",
       "    .dataframe thead th {\n",
       "        text-align: right;\n",
       "    }\n",
       "</style>\n",
       "<table border=\"1\" class=\"dataframe\">\n",
       "  <thead>\n",
       "    <tr style=\"text-align: right;\">\n",
       "      <th></th>\n",
       "      <th>0</th>\n",
       "      <th>MA_5</th>\n",
       "    </tr>\n",
       "  </thead>\n",
       "  <tbody>\n",
       "    <tr>\n",
       "      <th>0</th>\n",
       "      <td>10</td>\n",
       "      <td>NaN</td>\n",
       "    </tr>\n",
       "    <tr>\n",
       "      <th>1</th>\n",
       "      <td>20</td>\n",
       "      <td>NaN</td>\n",
       "    </tr>\n",
       "    <tr>\n",
       "      <th>2</th>\n",
       "      <td>30</td>\n",
       "      <td>NaN</td>\n",
       "    </tr>\n",
       "    <tr>\n",
       "      <th>3</th>\n",
       "      <td>40</td>\n",
       "      <td>NaN</td>\n",
       "    </tr>\n",
       "    <tr>\n",
       "      <th>4</th>\n",
       "      <td>50</td>\n",
       "      <td>30.0</td>\n",
       "    </tr>\n",
       "    <tr>\n",
       "      <th>5</th>\n",
       "      <td>60</td>\n",
       "      <td>40.0</td>\n",
       "    </tr>\n",
       "    <tr>\n",
       "      <th>6</th>\n",
       "      <td>70</td>\n",
       "      <td>50.0</td>\n",
       "    </tr>\n",
       "    <tr>\n",
       "      <th>7</th>\n",
       "      <td>80</td>\n",
       "      <td>60.0</td>\n",
       "    </tr>\n",
       "    <tr>\n",
       "      <th>8</th>\n",
       "      <td>90</td>\n",
       "      <td>70.0</td>\n",
       "    </tr>\n",
       "    <tr>\n",
       "      <th>9</th>\n",
       "      <td>100</td>\n",
       "      <td>80.0</td>\n",
       "    </tr>\n",
       "  </tbody>\n",
       "</table>\n",
       "</div>"
      ],
      "text/plain": [
       "     0  MA_5\n",
       "0   10   NaN\n",
       "1   20   NaN\n",
       "2   30   NaN\n",
       "3   40   NaN\n",
       "4   50  30.0\n",
       "5   60  40.0\n",
       "6   70  50.0\n",
       "7   80  60.0\n",
       "8   90  70.0\n",
       "9  100  80.0"
      ]
     },
     "execution_count": 15,
     "metadata": {},
     "output_type": "execute_result"
    }
   ],
   "source": [
    "df1['MA_5']=df1.rolling(5).mean()#rolling is function that will hepl us to calculate moving average\n",
    "df1"
   ]
  },
  {
   "cell_type": "markdown",
   "id": "41f7015a-27d2-4482-bc57-1008aa9f1784",
   "metadata": {},
   "source": [
    "100 days moving average"
   ]
  },
  {
   "cell_type": "code",
   "execution_count": 16,
   "id": "2e4dc622-34fe-4e8c-b16c-ef2e4ae0cbc7",
   "metadata": {},
   "outputs": [
    {
     "data": {
      "text/html": [
       "<div>\n",
       "<style scoped>\n",
       "    .dataframe tbody tr th:only-of-type {\n",
       "        vertical-align: middle;\n",
       "    }\n",
       "\n",
       "    .dataframe tbody tr th {\n",
       "        vertical-align: top;\n",
       "    }\n",
       "\n",
       "    .dataframe thead tr th {\n",
       "        text-align: left;\n",
       "    }\n",
       "</style>\n",
       "<table border=\"1\" class=\"dataframe\">\n",
       "  <thead>\n",
       "    <tr>\n",
       "      <th>Price</th>\n",
       "      <th>Date</th>\n",
       "      <th>Close</th>\n",
       "      <th>High</th>\n",
       "      <th>Low</th>\n",
       "      <th>Open</th>\n",
       "      <th>Volume</th>\n",
       "      <th>MA_100</th>\n",
       "    </tr>\n",
       "    <tr>\n",
       "      <th>Ticker</th>\n",
       "      <th></th>\n",
       "      <th>AAPL</th>\n",
       "      <th>AAPL</th>\n",
       "      <th>AAPL</th>\n",
       "      <th>AAPL</th>\n",
       "      <th>AAPL</th>\n",
       "      <th></th>\n",
       "    </tr>\n",
       "  </thead>\n",
       "  <tbody>\n",
       "    <tr>\n",
       "      <th>0</th>\n",
       "      <td>2015-08-24</td>\n",
       "      <td>23.173700</td>\n",
       "      <td>24.450142</td>\n",
       "      <td>20.674751</td>\n",
       "      <td>21.319714</td>\n",
       "      <td>648825200</td>\n",
       "      <td>NaN</td>\n",
       "    </tr>\n",
       "    <tr>\n",
       "      <th>1</th>\n",
       "      <td>2015-08-25</td>\n",
       "      <td>23.313032</td>\n",
       "      <td>24.969260</td>\n",
       "      <td>23.259098</td>\n",
       "      <td>24.969260</td>\n",
       "      <td>414406400</td>\n",
       "      <td>NaN</td>\n",
       "    </tr>\n",
       "    <tr>\n",
       "      <th>2</th>\n",
       "      <td>2015-08-26</td>\n",
       "      <td>24.650146</td>\n",
       "      <td>24.695091</td>\n",
       "      <td>23.607420</td>\n",
       "      <td>24.065859</td>\n",
       "      <td>387098400</td>\n",
       "      <td>NaN</td>\n",
       "    </tr>\n",
       "    <tr>\n",
       "      <th>3</th>\n",
       "      <td>2015-08-27</td>\n",
       "      <td>25.376009</td>\n",
       "      <td>25.447921</td>\n",
       "      <td>24.724305</td>\n",
       "      <td>25.220950</td>\n",
       "      <td>338464400</td>\n",
       "      <td>NaN</td>\n",
       "    </tr>\n",
       "    <tr>\n",
       "      <th>4</th>\n",
       "      <td>2015-08-28</td>\n",
       "      <td>25.459160</td>\n",
       "      <td>25.463654</td>\n",
       "      <td>25.065890</td>\n",
       "      <td>25.207467</td>\n",
       "      <td>212657600</td>\n",
       "      <td>NaN</td>\n",
       "    </tr>\n",
       "  </tbody>\n",
       "</table>\n",
       "</div>"
      ],
      "text/plain": [
       "Price        Date      Close       High        Low       Open     Volume  \\\n",
       "Ticker                  AAPL       AAPL       AAPL       AAPL       AAPL   \n",
       "0      2015-08-24  23.173700  24.450142  20.674751  21.319714  648825200   \n",
       "1      2015-08-25  23.313032  24.969260  23.259098  24.969260  414406400   \n",
       "2      2015-08-26  24.650146  24.695091  23.607420  24.065859  387098400   \n",
       "3      2015-08-27  25.376009  25.447921  24.724305  25.220950  338464400   \n",
       "4      2015-08-28  25.459160  25.463654  25.065890  25.207467  212657600   \n",
       "\n",
       "Price  MA_100  \n",
       "Ticker         \n",
       "0         NaN  \n",
       "1         NaN  \n",
       "2         NaN  \n",
       "3         NaN  \n",
       "4         NaN  "
      ]
     },
     "execution_count": 16,
     "metadata": {},
     "output_type": "execute_result"
    }
   ],
   "source": [
    "df['MA_100'] = df.Close.rolling(100).mean()\n",
    "df.head()"
   ]
  },
  {
   "cell_type": "code",
   "execution_count": 17,
   "id": "024146cc-14ed-4262-80c1-3feca3c36f9f",
   "metadata": {},
   "outputs": [
    {
     "data": {
      "text/html": [
       "<div>\n",
       "<style scoped>\n",
       "    .dataframe tbody tr th:only-of-type {\n",
       "        vertical-align: middle;\n",
       "    }\n",
       "\n",
       "    .dataframe tbody tr th {\n",
       "        vertical-align: top;\n",
       "    }\n",
       "\n",
       "    .dataframe thead tr th {\n",
       "        text-align: left;\n",
       "    }\n",
       "</style>\n",
       "<table border=\"1\" class=\"dataframe\">\n",
       "  <thead>\n",
       "    <tr>\n",
       "      <th>Price</th>\n",
       "      <th>Date</th>\n",
       "      <th>Close</th>\n",
       "      <th>High</th>\n",
       "      <th>Low</th>\n",
       "      <th>Open</th>\n",
       "      <th>Volume</th>\n",
       "      <th>MA_100</th>\n",
       "    </tr>\n",
       "    <tr>\n",
       "      <th>Ticker</th>\n",
       "      <th></th>\n",
       "      <th>AAPL</th>\n",
       "      <th>AAPL</th>\n",
       "      <th>AAPL</th>\n",
       "      <th>AAPL</th>\n",
       "      <th>AAPL</th>\n",
       "      <th></th>\n",
       "    </tr>\n",
       "  </thead>\n",
       "  <tbody>\n",
       "    <tr>\n",
       "      <th>0</th>\n",
       "      <td>2015-08-24</td>\n",
       "      <td>23.173700</td>\n",
       "      <td>24.450142</td>\n",
       "      <td>20.674751</td>\n",
       "      <td>21.319714</td>\n",
       "      <td>648825200</td>\n",
       "      <td>NaN</td>\n",
       "    </tr>\n",
       "    <tr>\n",
       "      <th>1</th>\n",
       "      <td>2015-08-25</td>\n",
       "      <td>23.313032</td>\n",
       "      <td>24.969260</td>\n",
       "      <td>23.259098</td>\n",
       "      <td>24.969260</td>\n",
       "      <td>414406400</td>\n",
       "      <td>NaN</td>\n",
       "    </tr>\n",
       "    <tr>\n",
       "      <th>2</th>\n",
       "      <td>2015-08-26</td>\n",
       "      <td>24.650146</td>\n",
       "      <td>24.695091</td>\n",
       "      <td>23.607420</td>\n",
       "      <td>24.065859</td>\n",
       "      <td>387098400</td>\n",
       "      <td>NaN</td>\n",
       "    </tr>\n",
       "    <tr>\n",
       "      <th>3</th>\n",
       "      <td>2015-08-27</td>\n",
       "      <td>25.376009</td>\n",
       "      <td>25.447921</td>\n",
       "      <td>24.724305</td>\n",
       "      <td>25.220950</td>\n",
       "      <td>338464400</td>\n",
       "      <td>NaN</td>\n",
       "    </tr>\n",
       "    <tr>\n",
       "      <th>4</th>\n",
       "      <td>2015-08-28</td>\n",
       "      <td>25.459160</td>\n",
       "      <td>25.463654</td>\n",
       "      <td>25.065890</td>\n",
       "      <td>25.207467</td>\n",
       "      <td>212657600</td>\n",
       "      <td>NaN</td>\n",
       "    </tr>\n",
       "    <tr>\n",
       "      <th>...</th>\n",
       "      <td>...</td>\n",
       "      <td>...</td>\n",
       "      <td>...</td>\n",
       "      <td>...</td>\n",
       "      <td>...</td>\n",
       "      <td>...</td>\n",
       "      <td>...</td>\n",
       "    </tr>\n",
       "    <tr>\n",
       "      <th>98</th>\n",
       "      <td>2016-01-13</td>\n",
       "      <td>21.979713</td>\n",
       "      <td>22.837327</td>\n",
       "      <td>21.959402</td>\n",
       "      <td>22.640978</td>\n",
       "      <td>249758400</td>\n",
       "      <td>NaN</td>\n",
       "    </tr>\n",
       "    <tr>\n",
       "      <th>99</th>\n",
       "      <td>2016-01-14</td>\n",
       "      <td>22.460421</td>\n",
       "      <td>22.677082</td>\n",
       "      <td>21.607322</td>\n",
       "      <td>22.108349</td>\n",
       "      <td>252680400</td>\n",
       "      <td>25.303905</td>\n",
       "    </tr>\n",
       "    <tr>\n",
       "      <th>100</th>\n",
       "      <td>2016-01-15</td>\n",
       "      <td>21.921024</td>\n",
       "      <td>22.051923</td>\n",
       "      <td>21.521558</td>\n",
       "      <td>21.711135</td>\n",
       "      <td>319335600</td>\n",
       "      <td>25.291378</td>\n",
       "    </tr>\n",
       "    <tr>\n",
       "      <th>101</th>\n",
       "      <td>2016-01-19</td>\n",
       "      <td>21.814959</td>\n",
       "      <td>22.264076</td>\n",
       "      <td>21.553160</td>\n",
       "      <td>22.209912</td>\n",
       "      <td>212350800</td>\n",
       "      <td>25.276398</td>\n",
       "    </tr>\n",
       "    <tr>\n",
       "      <th>102</th>\n",
       "      <td>2016-01-20</td>\n",
       "      <td>21.844294</td>\n",
       "      <td>22.160256</td>\n",
       "      <td>21.083726</td>\n",
       "      <td>21.462881</td>\n",
       "      <td>289337600</td>\n",
       "      <td>25.248339</td>\n",
       "    </tr>\n",
       "  </tbody>\n",
       "</table>\n",
       "<p>103 rows × 7 columns</p>\n",
       "</div>"
      ],
      "text/plain": [
       "Price        Date      Close       High        Low       Open     Volume  \\\n",
       "Ticker                  AAPL       AAPL       AAPL       AAPL       AAPL   \n",
       "0      2015-08-24  23.173700  24.450142  20.674751  21.319714  648825200   \n",
       "1      2015-08-25  23.313032  24.969260  23.259098  24.969260  414406400   \n",
       "2      2015-08-26  24.650146  24.695091  23.607420  24.065859  387098400   \n",
       "3      2015-08-27  25.376009  25.447921  24.724305  25.220950  338464400   \n",
       "4      2015-08-28  25.459160  25.463654  25.065890  25.207467  212657600   \n",
       "..            ...        ...        ...        ...        ...        ...   \n",
       "98     2016-01-13  21.979713  22.837327  21.959402  22.640978  249758400   \n",
       "99     2016-01-14  22.460421  22.677082  21.607322  22.108349  252680400   \n",
       "100    2016-01-15  21.921024  22.051923  21.521558  21.711135  319335600   \n",
       "101    2016-01-19  21.814959  22.264076  21.553160  22.209912  212350800   \n",
       "102    2016-01-20  21.844294  22.160256  21.083726  21.462881  289337600   \n",
       "\n",
       "Price      MA_100  \n",
       "Ticker             \n",
       "0             NaN  \n",
       "1             NaN  \n",
       "2             NaN  \n",
       "3             NaN  \n",
       "4             NaN  \n",
       "..            ...  \n",
       "98            NaN  \n",
       "99      25.303905  \n",
       "100     25.291378  \n",
       "101     25.276398  \n",
       "102     25.248339  \n",
       "\n",
       "[103 rows x 7 columns]"
      ]
     },
     "execution_count": 17,
     "metadata": {},
     "output_type": "execute_result"
    }
   ],
   "source": [
    "df.head(103)"
   ]
  },
  {
   "cell_type": "code",
   "execution_count": 18,
   "id": "2361b6d0-b55c-4686-a656-e9ecaf5bd57c",
   "metadata": {},
   "outputs": [
    {
     "data": {
      "text/plain": [
       "Text(0, 0.5, 'Close Price')"
      ]
     },
     "execution_count": 18,
     "metadata": {},
     "output_type": "execute_result"
    },
    {
     "data": {
      "image/png": "[encoded data removed]",
      "text/plain": [
       "<Figure size 1200x500 with 1 Axes>"
      ]
     },
     "metadata": {},
     "output_type": "display_data"
    }
   ],
   "source": [
    "plt.figure(figsize=(12,5))\n",
    "plt.plot(df.Close)\n",
    "plt.plot(df['MA_100'])\n",
    "plt.title('100 Days Moving Average')\n",
    "plt.xlabel('Days')\n",
    "plt.ylabel('Close Price')\n"
   ]
  },
  {
   "cell_type": "markdown",
   "id": "f13e7c1a-8e74-4ffb-b75f-96596e105e35",
   "metadata": {},
   "source": [
    "#200 Days of moving average"
   ]
  },
  {
   "cell_type": "code",
   "execution_count": 19,
   "id": "1619b6b0-5c3d-44a1-a064-79a1221ef7c4",
   "metadata": {},
   "outputs": [
    {
     "data": {
      "text/html": [
       "<div>\n",
       "<style scoped>\n",
       "    .dataframe tbody tr th:only-of-type {\n",
       "        vertical-align: middle;\n",
       "    }\n",
       "\n",
       "    .dataframe tbody tr th {\n",
       "        vertical-align: top;\n",
       "    }\n",
       "\n",
       "    .dataframe thead tr th {\n",
       "        text-align: left;\n",
       "    }\n",
       "</style>\n",
       "<table border=\"1\" class=\"dataframe\">\n",
       "  <thead>\n",
       "    <tr>\n",
       "      <th>Price</th>\n",
       "      <th>Date</th>\n",
       "      <th>Close</th>\n",
       "      <th>High</th>\n",
       "      <th>Low</th>\n",
       "      <th>Open</th>\n",
       "      <th>Volume</th>\n",
       "      <th>MA_100</th>\n",
       "      <th>MA_200</th>\n",
       "    </tr>\n",
       "    <tr>\n",
       "      <th>Ticker</th>\n",
       "      <th></th>\n",
       "      <th>AAPL</th>\n",
       "      <th>AAPL</th>\n",
       "      <th>AAPL</th>\n",
       "      <th>AAPL</th>\n",
       "      <th>AAPL</th>\n",
       "      <th></th>\n",
       "      <th></th>\n",
       "    </tr>\n",
       "  </thead>\n",
       "  <tbody>\n",
       "    <tr>\n",
       "      <th>0</th>\n",
       "      <td>2015-08-24</td>\n",
       "      <td>23.173700</td>\n",
       "      <td>24.450142</td>\n",
       "      <td>20.674751</td>\n",
       "      <td>21.319714</td>\n",
       "      <td>648825200</td>\n",
       "      <td>NaN</td>\n",
       "      <td>NaN</td>\n",
       "    </tr>\n",
       "    <tr>\n",
       "      <th>1</th>\n",
       "      <td>2015-08-25</td>\n",
       "      <td>23.313032</td>\n",
       "      <td>24.969260</td>\n",
       "      <td>23.259098</td>\n",
       "      <td>24.969260</td>\n",
       "      <td>414406400</td>\n",
       "      <td>NaN</td>\n",
       "      <td>NaN</td>\n",
       "    </tr>\n",
       "    <tr>\n",
       "      <th>2</th>\n",
       "      <td>2015-08-26</td>\n",
       "      <td>24.650146</td>\n",
       "      <td>24.695091</td>\n",
       "      <td>23.607420</td>\n",
       "      <td>24.065859</td>\n",
       "      <td>387098400</td>\n",
       "      <td>NaN</td>\n",
       "      <td>NaN</td>\n",
       "    </tr>\n",
       "    <tr>\n",
       "      <th>3</th>\n",
       "      <td>2015-08-27</td>\n",
       "      <td>25.376009</td>\n",
       "      <td>25.447921</td>\n",
       "      <td>24.724305</td>\n",
       "      <td>25.220950</td>\n",
       "      <td>338464400</td>\n",
       "      <td>NaN</td>\n",
       "      <td>NaN</td>\n",
       "    </tr>\n",
       "    <tr>\n",
       "      <th>4</th>\n",
       "      <td>2015-08-28</td>\n",
       "      <td>25.459160</td>\n",
       "      <td>25.463654</td>\n",
       "      <td>25.065890</td>\n",
       "      <td>25.207467</td>\n",
       "      <td>212657600</td>\n",
       "      <td>NaN</td>\n",
       "      <td>NaN</td>\n",
       "    </tr>\n",
       "  </tbody>\n",
       "</table>\n",
       "</div>"
      ],
      "text/plain": [
       "Price        Date      Close       High        Low       Open     Volume  \\\n",
       "Ticker                  AAPL       AAPL       AAPL       AAPL       AAPL   \n",
       "0      2015-08-24  23.173700  24.450142  20.674751  21.319714  648825200   \n",
       "1      2015-08-25  23.313032  24.969260  23.259098  24.969260  414406400   \n",
       "2      2015-08-26  24.650146  24.695091  23.607420  24.065859  387098400   \n",
       "3      2015-08-27  25.376009  25.447921  24.724305  25.220950  338464400   \n",
       "4      2015-08-28  25.459160  25.463654  25.065890  25.207467  212657600   \n",
       "\n",
       "Price  MA_100 MA_200  \n",
       "Ticker                \n",
       "0         NaN    NaN  \n",
       "1         NaN    NaN  \n",
       "2         NaN    NaN  \n",
       "3         NaN    NaN  \n",
       "4         NaN    NaN  "
      ]
     },
     "execution_count": 19,
     "metadata": {},
     "output_type": "execute_result"
    }
   ],
   "source": [
    "df['MA_200']=df.Close.rolling(200).mean()\n",
    "df.head()"
   ]
  },
  {
   "cell_type": "code",
   "execution_count": 20,
   "id": "a0404bde-5f42-4eb2-aa11-ffeba8da16a3",
   "metadata": {},
   "outputs": [
    {
     "data": {
      "text/plain": [
       "Text(0, 0.5, 'Close Price')"
      ]
     },
     "execution_count": 20,
     "metadata": {},
     "output_type": "execute_result"
    },
    {
     "data": {
      "image/png": "[encoded data removed]",
      "text/plain": [
       "<Figure size 1200x500 with 1 Axes>"
      ]
     },
     "metadata": {},
     "output_type": "display_data"
    }
   ],
   "source": [
    "plt.figure(figsize=(12,5))\n",
    "plt.plot(df.Close)\n",
    "plt.plot(df['MA_100'])\n",
    "plt.plot(df['MA_200'])\n",
    "plt.title('100 Days Moving Average')\n",
    "plt.xlabel('Days')\n",
    "plt.ylabel('Close Price')\n"
   ]
  },
  {
   "cell_type": "markdown",
   "id": "ad7dc9f0-91da-4286-8095-2913f931a10b",
   "metadata": {},
   "source": [
    "### calculating % changes in each trading session"
   ]
  },
  {
   "cell_type": "code",
   "execution_count": 21,
   "id": "ddce9639-0bba-4843-baa0-db03ac817f82",
   "metadata": {},
   "outputs": [
    {
     "data": {
      "text/html": [
       "<div>\n",
       "<style scoped>\n",
       "    .dataframe tbody tr th:only-of-type {\n",
       "        vertical-align: middle;\n",
       "    }\n",
       "\n",
       "    .dataframe tbody tr th {\n",
       "        vertical-align: top;\n",
       "    }\n",
       "\n",
       "    .dataframe thead tr th {\n",
       "        text-align: left;\n",
       "    }\n",
       "</style>\n",
       "<table border=\"1\" class=\"dataframe\">\n",
       "  <thead>\n",
       "    <tr>\n",
       "      <th>Price</th>\n",
       "      <th>Close</th>\n",
       "      <th>Percentage Change</th>\n",
       "    </tr>\n",
       "    <tr>\n",
       "      <th>Ticker</th>\n",
       "      <th>AAPL</th>\n",
       "      <th></th>\n",
       "    </tr>\n",
       "  </thead>\n",
       "  <tbody>\n",
       "    <tr>\n",
       "      <th>0</th>\n",
       "      <td>23.173700</td>\n",
       "      <td>NaN</td>\n",
       "    </tr>\n",
       "    <tr>\n",
       "      <th>1</th>\n",
       "      <td>23.313032</td>\n",
       "      <td>0.006012</td>\n",
       "    </tr>\n",
       "    <tr>\n",
       "      <th>2</th>\n",
       "      <td>24.650146</td>\n",
       "      <td>0.057355</td>\n",
       "    </tr>\n",
       "    <tr>\n",
       "      <th>3</th>\n",
       "      <td>25.376009</td>\n",
       "      <td>0.029447</td>\n",
       "    </tr>\n",
       "    <tr>\n",
       "      <th>4</th>\n",
       "      <td>25.459160</td>\n",
       "      <td>0.003277</td>\n",
       "    </tr>\n",
       "    <tr>\n",
       "      <th>...</th>\n",
       "      <td>...</td>\n",
       "      <td>...</td>\n",
       "    </tr>\n",
       "    <tr>\n",
       "      <th>2510</th>\n",
       "      <td>230.889999</td>\n",
       "      <td>-0.003023</td>\n",
       "    </tr>\n",
       "    <tr>\n",
       "      <th>2511</th>\n",
       "      <td>230.559998</td>\n",
       "      <td>-0.001429</td>\n",
       "    </tr>\n",
       "    <tr>\n",
       "      <th>2512</th>\n",
       "      <td>226.009995</td>\n",
       "      <td>-0.019735</td>\n",
       "    </tr>\n",
       "    <tr>\n",
       "      <th>2513</th>\n",
       "      <td>224.899994</td>\n",
       "      <td>-0.004911</td>\n",
       "    </tr>\n",
       "    <tr>\n",
       "      <th>2514</th>\n",
       "      <td>227.759995</td>\n",
       "      <td>0.012717</td>\n",
       "    </tr>\n",
       "  </tbody>\n",
       "</table>\n",
       "<p>2515 rows × 2 columns</p>\n",
       "</div>"
      ],
      "text/plain": [
       "Price        Close Percentage Change\n",
       "Ticker        AAPL                  \n",
       "0        23.173700               NaN\n",
       "1        23.313032          0.006012\n",
       "2        24.650146          0.057355\n",
       "3        25.376009          0.029447\n",
       "4        25.459160          0.003277\n",
       "...            ...               ...\n",
       "2510    230.889999         -0.003023\n",
       "2511    230.559998         -0.001429\n",
       "2512    226.009995         -0.019735\n",
       "2513    224.899994         -0.004911\n",
       "2514    227.759995          0.012717\n",
       "\n",
       "[2515 rows x 2 columns]"
      ]
     },
     "execution_count": 21,
     "metadata": {},
     "output_type": "execute_result"
    }
   ],
   "source": [
    "df['Percentage Change'] = df.Close.pct_change()\n",
    "df[['Close', 'Percentage Change']]"
   ]
  },
  {
   "cell_type": "code",
   "execution_count": 22,
   "id": "219e46ee-5022-4838-8c1c-c06aa433b2be",
   "metadata": {},
   "outputs": [
    {
     "data": {
      "text/plain": [
       "[<matplotlib.lines.Line2D at 0x1f4e5247d90>]"
      ]
     },
     "execution_count": 22,
     "metadata": {},
     "output_type": "execute_result"
    },
    {
     "data": {
      "image/png": "[encoded data removed]",
      "text/plain": [
       "<Figure size 1200x500 with 1 Axes>"
      ]
     },
     "metadata": {},
     "output_type": "display_data"
    }
   ],
   "source": [
    "plt.figure(figsize=(12,5))\n",
    "plt.plot(df['Percentage Change'])"
   ]
  },
  {
   "cell_type": "markdown",
   "id": "b6a4532f-915f-438d-bfef-bd72a8035a2c",
   "metadata": {},
   "source": [
    "###Data Processing"
   ]
  },
  {
   "cell_type": "code",
   "execution_count": 23,
   "id": "f2a629fc-9de1-4f80-b4ba-02da9468c9d5",
   "metadata": {},
   "outputs": [
    {
     "data": {
      "text/plain": [
       "(2515, 9)"
      ]
     },
     "execution_count": 23,
     "metadata": {},
     "output_type": "execute_result"
    }
   ],
   "source": [
    "df.shape"
   ]
  },
  {
   "cell_type": "markdown",
   "id": "9cfb68fd-fa34-4b95-907b-a2e5abe5a5ae",
   "metadata": {},
   "source": [
    "#spliting data into training & testing dtasets"
   ]
  },
  {
   "cell_type": "code",
   "execution_count": 24,
   "id": "521936f3-c5db-45ed-a9ac-e0b221706821",
   "metadata": {},
   "outputs": [
    {
     "name": "stdout",
     "output_type": "stream",
     "text": [
      "Ticker        AAPL\n",
      "0        23.173700\n",
      "1        23.313032\n",
      "2        24.650146\n",
      "3        25.376009\n",
      "4        25.459160\n",
      "...            ...\n",
      "1755    169.425537\n",
      "1756    170.498596\n",
      "1757    170.341095\n",
      "1758    171.837448\n",
      "1759    171.443680\n",
      "\n",
      "[1760 rows x 1 columns]\n",
      "Ticker     AAPL\n",
      "0       23.1737\n"
     ]
    }
   ],
   "source": [
    "data_training = pd.DataFrame(df.Close[0:int(len(df)*0.7)])\n",
    "data_testing = pd.DataFrame(df.Close[0:int(len(df)*0.7) : int(len(df))])\n",
    "print(data_training)\n",
    "print(data_testing)"
   ]
  },
  {
   "cell_type": "code",
   "execution_count": 25,
   "id": "3e0c0e41-04dc-4d1d-8770-0bf35389abd1",
   "metadata": {},
   "outputs": [
    {
     "data": {
      "text/html": [
       "<div>\n",
       "<style scoped>\n",
       "    .dataframe tbody tr th:only-of-type {\n",
       "        vertical-align: middle;\n",
       "    }\n",
       "\n",
       "    .dataframe tbody tr th {\n",
       "        vertical-align: top;\n",
       "    }\n",
       "\n",
       "    .dataframe thead th {\n",
       "        text-align: right;\n",
       "    }\n",
       "</style>\n",
       "<table border=\"1\" class=\"dataframe\">\n",
       "  <thead>\n",
       "    <tr style=\"text-align: right;\">\n",
       "      <th>Ticker</th>\n",
       "      <th>AAPL</th>\n",
       "    </tr>\n",
       "  </thead>\n",
       "  <tbody>\n",
       "    <tr>\n",
       "      <th>0</th>\n",
       "      <td>23.173700</td>\n",
       "    </tr>\n",
       "    <tr>\n",
       "      <th>1</th>\n",
       "      <td>23.313032</td>\n",
       "    </tr>\n",
       "    <tr>\n",
       "      <th>2</th>\n",
       "      <td>24.650146</td>\n",
       "    </tr>\n",
       "    <tr>\n",
       "      <th>3</th>\n",
       "      <td>25.376009</td>\n",
       "    </tr>\n",
       "    <tr>\n",
       "      <th>4</th>\n",
       "      <td>25.459160</td>\n",
       "    </tr>\n",
       "    <tr>\n",
       "      <th>...</th>\n",
       "      <td>...</td>\n",
       "    </tr>\n",
       "    <tr>\n",
       "      <th>1755</th>\n",
       "      <td>169.425537</td>\n",
       "    </tr>\n",
       "    <tr>\n",
       "      <th>1756</th>\n",
       "      <td>170.498596</td>\n",
       "    </tr>\n",
       "    <tr>\n",
       "      <th>1757</th>\n",
       "      <td>170.341095</td>\n",
       "    </tr>\n",
       "    <tr>\n",
       "      <th>1758</th>\n",
       "      <td>171.837448</td>\n",
       "    </tr>\n",
       "    <tr>\n",
       "      <th>1759</th>\n",
       "      <td>171.443680</td>\n",
       "    </tr>\n",
       "  </tbody>\n",
       "</table>\n",
       "<p>1760 rows × 1 columns</p>\n",
       "</div>"
      ],
      "text/plain": [
       "Ticker        AAPL\n",
       "0        23.173700\n",
       "1        23.313032\n",
       "2        24.650146\n",
       "3        25.376009\n",
       "4        25.459160\n",
       "...            ...\n",
       "1755    169.425537\n",
       "1756    170.498596\n",
       "1757    170.341095\n",
       "1758    171.837448\n",
       "1759    171.443680\n",
       "\n",
       "[1760 rows x 1 columns]"
      ]
     },
     "execution_count": 25,
     "metadata": {},
     "output_type": "execute_result"
    }
   ],
   "source": [
    "data_training"
   ]
  },
  {
   "cell_type": "code",
   "execution_count": 26,
   "id": "f1b7c9b9-8b88-4996-8bbb-32b6465f1727",
   "metadata": {},
   "outputs": [
    {
     "data": {
      "text/html": [
       "<div>\n",
       "<style scoped>\n",
       "    .dataframe tbody tr th:only-of-type {\n",
       "        vertical-align: middle;\n",
       "    }\n",
       "\n",
       "    .dataframe tbody tr th {\n",
       "        vertical-align: top;\n",
       "    }\n",
       "\n",
       "    .dataframe thead th {\n",
       "        text-align: right;\n",
       "    }\n",
       "</style>\n",
       "<table border=\"1\" class=\"dataframe\">\n",
       "  <thead>\n",
       "    <tr style=\"text-align: right;\">\n",
       "      <th>Ticker</th>\n",
       "      <th>AAPL</th>\n",
       "    </tr>\n",
       "  </thead>\n",
       "  <tbody>\n",
       "    <tr>\n",
       "      <th>0</th>\n",
       "      <td>23.1737</td>\n",
       "    </tr>\n",
       "  </tbody>\n",
       "</table>\n",
       "</div>"
      ],
      "text/plain": [
       "Ticker     AAPL\n",
       "0       23.1737"
      ]
     },
     "execution_count": 26,
     "metadata": {},
     "output_type": "execute_result"
    }
   ],
   "source": [
    "data_testing"
   ]
  },
  {
   "cell_type": "markdown",
   "id": "b255054f-09f2-4160-a4e8-491260072a3f",
   "metadata": {},
   "source": [
    "#Scaling down the data between 0 and 1"
   ]
  },
  {
   "cell_type": "code",
   "execution_count": 27,
   "id": "dea9c71f-ac30-4b2e-94a0-dd31f3d1ac38",
   "metadata": {},
   "outputs": [
    {
     "data": {
      "text/plain": [
       "pandas.core.frame.DataFrame"
      ]
     },
     "execution_count": 27,
     "metadata": {},
     "output_type": "execute_result"
    }
   ],
   "source": [
    "type(df)"
   ]
  },
  {
   "cell_type": "code",
   "execution_count": null,
   "id": "063caa24-5072-4605-b2d4-363aeac73424",
   "metadata": {},
   "outputs": [],
   "source": []
  },
  {
   "cell_type": "code",
   "execution_count": null,
   "id": "d153e801-a2e7-481f-9334-ad866668adf9",
   "metadata": {},
   "outputs": [],
   "source": []
  },
  {
   "cell_type": "code",
   "execution_count": 28,
   "id": "8daab38b-d22a-4bce-bb98-f383fe166763",
   "metadata": {},
   "outputs": [
    {
     "data": {
      "text/plain": [
       "array([[0.01615552],\n",
       "       [0.01703838],\n",
       "       [0.02551083],\n",
       "       ...,\n",
       "       [0.94866242],\n",
       "       [0.95814386],\n",
       "       [0.9556488 ]], shape=(1760, 1))"
      ]
     },
     "execution_count": 28,
     "metadata": {},
     "output_type": "execute_result"
    }
   ],
   "source": [
    "from sklearn.preprocessing import MinMaxScaler\n",
    "\n",
    "scaler = MinMaxScaler(feature_range=(0,1))  # you can adjust the range\n",
    "data_training_array = scaler.fit_transform(data_training)\n",
    "data_training_array\n"
   ]
  },
  {
   "cell_type": "code",
   "execution_count": 29,
   "id": "828c6934-2bcb-4c14-9f47-489b51f18d4a",
   "metadata": {},
   "outputs": [
    {
     "data": {
      "text/plain": [
       "numpy.ndarray"
      ]
     },
     "execution_count": 29,
     "metadata": {},
     "output_type": "execute_result"
    }
   ],
   "source": [
    "type(data_training_array)"
   ]
  },
  {
   "cell_type": "code",
   "execution_count": 30,
   "id": "9d6a9bfc-f034-4f29-9db1-9d8d1b47d98a",
   "metadata": {},
   "outputs": [
    {
     "data": {
      "text/plain": [
       "(1760, 1)"
      ]
     },
     "execution_count": 30,
     "metadata": {},
     "output_type": "execute_result"
    }
   ],
   "source": [
    "data_training_array.shape"
   ]
  },
  {
   "cell_type": "markdown",
   "id": "0f59a8e9-6daa-4bd7-b9a3-065063e871ad",
   "metadata": {},
   "source": [
    "5.sequence Creation"
   ]
  },
  {
   "cell_type": "code",
   "execution_count": 31,
   "id": "9882fced-152c-49a0-8663-d4256f830158",
   "metadata": {},
   "outputs": [
    {
     "data": {
      "text/plain": [
       "(12, 13, 14, 15, 16, 17, 18, 19, 20)"
      ]
     },
     "execution_count": 31,
     "metadata": {},
     "output_type": "execute_result"
    }
   ],
   "source": [
    "12, 13, 14, 15, 16, 17, 18, 19, 20"
   ]
  },
  {
   "cell_type": "code",
   "execution_count": 32,
   "id": "0fe0f9dd-2339-4205-a712-ae7943e40ae7",
   "metadata": {},
   "outputs": [],
   "source": [
    "x_train=[]\n",
    "y_train=[]\n",
    "\n",
    "for i in range(100, data_training_array.shape[0]):\n",
    "    x_train.append(data_training_array[i - 100: i])\n",
    "    y_train.append(data_training_array[i,0])\n",
    "x_train,y_train = np.array(x_train),np.array(y_train)"
   ]
  },
  {
   "cell_type": "code",
   "execution_count": 33,
   "id": "81bd780a-b174-4ffa-9e2f-d5ee08b3f989",
   "metadata": {},
   "outputs": [
    {
     "data": {
      "text/plain": [
       "array([[[0.01615552],\n",
       "        [0.01703838],\n",
       "        [0.02551083],\n",
       "        ...,\n",
       "        [0.01226516],\n",
       "        [0.00858998],\n",
       "        [0.01163592]],\n",
       "\n",
       "       [[0.01703838],\n",
       "        [0.02551083],\n",
       "        [0.03011016],\n",
       "        ...,\n",
       "        [0.00858998],\n",
       "        [0.01163592],\n",
       "        [0.00821811]],\n",
       "\n",
       "       [[0.02551083],\n",
       "        [0.03011016],\n",
       "        [0.03063704],\n",
       "        ...,\n",
       "        [0.01163592],\n",
       "        [0.00821811],\n",
       "        [0.00754604]],\n",
       "\n",
       "       ...,\n",
       "\n",
       "       [[0.92804311],\n",
       "        [0.95205288],\n",
       "        [0.95609607],\n",
       "        ...,\n",
       "        [0.92034242],\n",
       "        [0.94286111],\n",
       "        [0.9496604 ]],\n",
       "\n",
       "       [[0.95205288],\n",
       "        [0.95609607],\n",
       "        [0.96156952],\n",
       "        ...,\n",
       "        [0.94286111],\n",
       "        [0.9496604 ],\n",
       "        [0.94866242]],\n",
       "\n",
       "       [[0.95609607],\n",
       "        [0.96156952],\n",
       "        [0.98246921],\n",
       "        ...,\n",
       "        [0.9496604 ],\n",
       "        [0.94866242],\n",
       "        [0.95814386]]], shape=(1660, 100, 1))"
      ]
     },
     "execution_count": 33,
     "metadata": {},
     "output_type": "execute_result"
    }
   ],
   "source": [
    "x_train"
   ]
  },
  {
   "cell_type": "code",
   "execution_count": 34,
   "id": "ac8a8d72-6231-4565-957f-e67cd5907f5d",
   "metadata": {},
   "outputs": [
    {
     "data": {
      "text/plain": [
       "3"
      ]
     },
     "execution_count": 34,
     "metadata": {},
     "output_type": "execute_result"
    }
   ],
   "source": [
    "x_train.ndim"
   ]
  },
  {
   "cell_type": "code",
   "execution_count": 35,
   "id": "f0f35a26-e3f9-45ae-a32e-2ba4a15c05bb",
   "metadata": {},
   "outputs": [
    {
     "data": {
      "text/plain": [
       "1"
      ]
     },
     "execution_count": 35,
     "metadata": {},
     "output_type": "execute_result"
    }
   ],
   "source": [
    "y_train.ndim"
   ]
  },
  {
   "cell_type": "code",
   "execution_count": 36,
   "id": "6372da1a-9f2e-4629-b89c-d32f87c642f9",
   "metadata": {},
   "outputs": [
    {
     "data": {
      "text/plain": [
       "(1660,)"
      ]
     },
     "execution_count": 36,
     "metadata": {},
     "output_type": "execute_result"
    }
   ],
   "source": [
    "y_train.shape"
   ]
  },
  {
   "cell_type": "markdown",
   "id": "21d39662-508f-43f7-bbb9-49be88175bbd",
   "metadata": {},
   "source": [
    "6.Bulding Machin Learning Model"
   ]
  },
  {
   "cell_type": "code",
   "execution_count": 37,
   "id": "7c16bd2a-43f1-473a-b619-da20428a502d",
   "metadata": {},
   "outputs": [
    {
     "name": "stdout",
     "output_type": "stream",
     "text": [
      "2.20.0\n"
     ]
    }
   ],
   "source": [
    "import tensorflow as tf\n",
    "print(tf.__version__)"
   ]
  },
  {
   "cell_type": "code",
   "execution_count": 42,
   "id": "baa52bba-b9c3-47be-a386-af8ad95b740b",
   "metadata": {},
   "outputs": [],
   "source": [
    "#ML Model\n",
    "from keras.models import Sequential\n",
    "from keras.layers import Dense,LSTM,Input"
   ]
  },
  {
   "cell_type": "code",
   "execution_count": 41,
   "id": "33e834a9-798f-4adf-b755-989a2d1c704c",
   "metadata": {},
   "outputs": [],
   "source": [
    "model = Sequential()\n",
    "model.add(Input(shape=(100,1))) #model expecting 100 days price 1 is feature menas closing price\n",
    "model.add(LSTM(units=128,activation='tanh', return_sequences=True)) #passing 128 lstm means neurons\n",
    "model.add(LSTM(units=64)) #64 neurons\n",
    "model.add(Dense(25)) \n",
    "#Dense layer will take single output from previous input and analyses into 25 different way\n",
    "model.add(Dense(1)) #final 1 output"
   ]
  },
  {
   "cell_type": "code",
   "execution_count": 44,
   "id": "4931b543-87bb-41b0-822f-91d7339606e5",
   "metadata": {},
   "outputs": [
    {
     "name": "stdout",
     "output_type": "stream",
     "text": [
      "Epoch 1/50\n",
      "\u001b[1m52/52\u001b[0m \u001b[32m━━━━━━━━━━━━━━━━━━━━\u001b[0m\u001b[37m\u001b[0m \u001b[1m9s\u001b[0m 91ms/step - loss: 0.0106\n",
      "Epoch 2/50\n",
      "\u001b[1m52/52\u001b[0m \u001b[32m━━━━━━━━━━━━━━━━━━━━\u001b[0m\u001b[37m\u001b[0m \u001b[1m4s\u001b[0m 73ms/step - loss: 5.8017e-04\n",
      "Epoch 3/50\n",
      "\u001b[1m52/52\u001b[0m \u001b[32m━━━━━━━━━━━━━━━━━━━━\u001b[0m\u001b[37m\u001b[0m \u001b[1m4s\u001b[0m 67ms/step - loss: 5.1588e-04\n",
      "Epoch 4/50\n",
      "\u001b[1m52/52\u001b[0m \u001b[32m━━━━━━━━━━━━━━━━━━━━\u001b[0m\u001b[37m\u001b[0m \u001b[1m4s\u001b[0m 69ms/step - loss: 5.2218e-04\n",
      "Epoch 5/50\n",
      "\u001b[1m52/52\u001b[0m \u001b[32m━━━━━━━━━━━━━━━━━━━━\u001b[0m\u001b[37m\u001b[0m \u001b[1m4s\u001b[0m 70ms/step - loss: 4.8767e-04\n",
      "Epoch 6/50\n",
      "\u001b[1m52/52\u001b[0m \u001b[32m━━━━━━━━━━━━━━━━━━━━\u001b[0m\u001b[37m\u001b[0m \u001b[1m4s\u001b[0m 69ms/step - loss: 4.5335e-04\n",
      "Epoch 7/50\n",
      "\u001b[1m52/52\u001b[0m \u001b[32m━━━━━━━━━━━━━━━━━━━━\u001b[0m\u001b[37m\u001b[0m \u001b[1m4s\u001b[0m 69ms/step - loss: 4.2924e-04\n",
      "Epoch 8/50\n",
      "\u001b[1m52/52\u001b[0m \u001b[32m━━━━━━━━━━━━━━━━━━━━\u001b[0m\u001b[37m\u001b[0m \u001b[1m4s\u001b[0m 70ms/step - loss: 4.1573e-04\n",
      "Epoch 9/50\n",
      "\u001b[1m52/52\u001b[0m \u001b[32m━━━━━━━━━━━━━━━━━━━━\u001b[0m\u001b[37m\u001b[0m \u001b[1m3s\u001b[0m 64ms/step - loss: 4.3314e-04\n",
      "Epoch 10/50\n",
      "\u001b[1m52/52\u001b[0m \u001b[32m━━━━━━━━━━━━━━━━━━━━\u001b[0m\u001b[37m\u001b[0m \u001b[1m3s\u001b[0m 63ms/step - loss: 3.8558e-04\n",
      "Epoch 11/50\n",
      "\u001b[1m52/52\u001b[0m \u001b[32m━━━━━━━━━━━━━━━━━━━━\u001b[0m\u001b[37m\u001b[0m \u001b[1m3s\u001b[0m 62ms/step - loss: 3.6000e-04\n",
      "Epoch 12/50\n",
      "\u001b[1m52/52\u001b[0m \u001b[32m━━━━━━━━━━━━━━━━━━━━\u001b[0m\u001b[37m\u001b[0m \u001b[1m3s\u001b[0m 63ms/step - loss: 3.8988e-04\n",
      "Epoch 13/50\n",
      "\u001b[1m52/52\u001b[0m \u001b[32m━━━━━━━━━━━━━━━━━━━━\u001b[0m\u001b[37m\u001b[0m \u001b[1m3s\u001b[0m 64ms/step - loss: 4.1313e-04\n",
      "Epoch 14/50\n",
      "\u001b[1m52/52\u001b[0m \u001b[32m━━━━━━━━━━━━━━━━━━━━\u001b[0m\u001b[37m\u001b[0m \u001b[1m3s\u001b[0m 63ms/step - loss: 3.2155e-04\n",
      "Epoch 15/50\n",
      "\u001b[1m52/52\u001b[0m \u001b[32m━━━━━━━━━━━━━━━━━━━━\u001b[0m\u001b[37m\u001b[0m \u001b[1m3s\u001b[0m 64ms/step - loss: 3.0283e-04\n",
      "Epoch 16/50\n",
      "\u001b[1m52/52\u001b[0m \u001b[32m━━━━━━━━━━━━━━━━━━━━\u001b[0m\u001b[37m\u001b[0m \u001b[1m3s\u001b[0m 64ms/step - loss: 3.3241e-04\n",
      "Epoch 17/50\n",
      "\u001b[1m52/52\u001b[0m \u001b[32m━━━━━━━━━━━━━━━━━━━━\u001b[0m\u001b[37m\u001b[0m \u001b[1m3s\u001b[0m 64ms/step - loss: 2.9977e-04\n",
      "Epoch 18/50\n",
      "\u001b[1m52/52\u001b[0m \u001b[32m━━━━━━━━━━━━━━━━━━━━\u001b[0m\u001b[37m\u001b[0m \u001b[1m3s\u001b[0m 63ms/step - loss: 3.0981e-04\n",
      "Epoch 19/50\n",
      "\u001b[1m52/52\u001b[0m \u001b[32m━━━━━━━━━━━━━━━━━━━━\u001b[0m\u001b[37m\u001b[0m \u001b[1m3s\u001b[0m 63ms/step - loss: 3.6019e-04\n",
      "Epoch 20/50\n",
      "\u001b[1m52/52\u001b[0m \u001b[32m━━━━━━━━━━━━━━━━━━━━\u001b[0m\u001b[37m\u001b[0m \u001b[1m3s\u001b[0m 65ms/step - loss: 2.9668e-04\n",
      "Epoch 21/50\n",
      "\u001b[1m52/52\u001b[0m \u001b[32m━━━━━━━━━━━━━━━━━━━━\u001b[0m\u001b[37m\u001b[0m \u001b[1m3s\u001b[0m 63ms/step - loss: 2.8230e-04\n",
      "Epoch 22/50\n",
      "\u001b[1m52/52\u001b[0m \u001b[32m━━━━━━━━━━━━━━━━━━━━\u001b[0m\u001b[37m\u001b[0m \u001b[1m3s\u001b[0m 63ms/step - loss: 3.1375e-04\n",
      "Epoch 23/50\n",
      "\u001b[1m52/52\u001b[0m \u001b[32m━━━━━━━━━━━━━━━━━━━━\u001b[0m\u001b[37m\u001b[0m \u001b[1m3s\u001b[0m 63ms/step - loss: 2.7397e-04\n",
      "Epoch 24/50\n",
      "\u001b[1m52/52\u001b[0m \u001b[32m━━━━━━━━━━━━━━━━━━━━\u001b[0m\u001b[37m\u001b[0m \u001b[1m3s\u001b[0m 63ms/step - loss: 2.2126e-04\n",
      "Epoch 25/50\n",
      "\u001b[1m52/52\u001b[0m \u001b[32m━━━━━━━━━━━━━━━━━━━━\u001b[0m\u001b[37m\u001b[0m \u001b[1m3s\u001b[0m 64ms/step - loss: 2.3535e-04\n",
      "Epoch 26/50\n",
      "\u001b[1m52/52\u001b[0m \u001b[32m━━━━━━━━━━━━━━━━━━━━\u001b[0m\u001b[37m\u001b[0m \u001b[1m3s\u001b[0m 63ms/step - loss: 2.9984e-04\n",
      "Epoch 27/50\n",
      "\u001b[1m52/52\u001b[0m \u001b[32m━━━━━━━━━━━━━━━━━━━━\u001b[0m\u001b[37m\u001b[0m \u001b[1m3s\u001b[0m 64ms/step - loss: 2.3371e-04\n",
      "Epoch 28/50\n",
      "\u001b[1m52/52\u001b[0m \u001b[32m━━━━━━━━━━━━━━━━━━━━\u001b[0m\u001b[37m\u001b[0m \u001b[1m3s\u001b[0m 63ms/step - loss: 2.0526e-04\n",
      "Epoch 29/50\n",
      "\u001b[1m52/52\u001b[0m \u001b[32m━━━━━━━━━━━━━━━━━━━━\u001b[0m\u001b[37m\u001b[0m \u001b[1m3s\u001b[0m 63ms/step - loss: 2.4127e-04\n",
      "Epoch 30/50\n",
      "\u001b[1m52/52\u001b[0m \u001b[32m━━━━━━━━━━━━━━━━━━━━\u001b[0m\u001b[37m\u001b[0m \u001b[1m3s\u001b[0m 58ms/step - loss: 2.4266e-04\n",
      "Epoch 31/50\n",
      "\u001b[1m52/52\u001b[0m \u001b[32m━━━━━━━━━━━━━━━━━━━━\u001b[0m\u001b[37m\u001b[0m \u001b[1m3s\u001b[0m 58ms/step - loss: 1.9556e-04\n",
      "Epoch 32/50\n",
      "\u001b[1m52/52\u001b[0m \u001b[32m━━━━━━━━━━━━━━━━━━━━\u001b[0m\u001b[37m\u001b[0m \u001b[1m3s\u001b[0m 56ms/step - loss: 2.2737e-04\n",
      "Epoch 33/50\n",
      "\u001b[1m52/52\u001b[0m \u001b[32m━━━━━━━━━━━━━━━━━━━━\u001b[0m\u001b[37m\u001b[0m \u001b[1m3s\u001b[0m 56ms/step - loss: 2.0099e-04\n",
      "Epoch 34/50\n",
      "\u001b[1m52/52\u001b[0m \u001b[32m━━━━━━━━━━━━━━━━━━━━\u001b[0m\u001b[37m\u001b[0m \u001b[1m3s\u001b[0m 57ms/step - loss: 1.8351e-04\n",
      "Epoch 35/50\n",
      "\u001b[1m52/52\u001b[0m \u001b[32m━━━━━━━━━━━━━━━━━━━━\u001b[0m\u001b[37m\u001b[0m \u001b[1m3s\u001b[0m 58ms/step - loss: 1.9826e-04\n",
      "Epoch 36/50\n",
      "\u001b[1m52/52\u001b[0m \u001b[32m━━━━━━━━━━━━━━━━━━━━\u001b[0m\u001b[37m\u001b[0m \u001b[1m3s\u001b[0m 57ms/step - loss: 1.9746e-04\n",
      "Epoch 37/50\n",
      "\u001b[1m52/52\u001b[0m \u001b[32m━━━━━━━━━━━━━━━━━━━━\u001b[0m\u001b[37m\u001b[0m \u001b[1m3s\u001b[0m 58ms/step - loss: 2.1476e-04\n",
      "Epoch 38/50\n",
      "\u001b[1m52/52\u001b[0m \u001b[32m━━━━━━━━━━━━━━━━━━━━\u001b[0m\u001b[37m\u001b[0m \u001b[1m3s\u001b[0m 58ms/step - loss: 1.7980e-04\n",
      "Epoch 39/50\n",
      "\u001b[1m52/52\u001b[0m \u001b[32m━━━━━━━━━━━━━━━━━━━━\u001b[0m\u001b[37m\u001b[0m \u001b[1m3s\u001b[0m 57ms/step - loss: 2.0961e-04\n",
      "Epoch 40/50\n",
      "\u001b[1m52/52\u001b[0m \u001b[32m━━━━━━━━━━━━━━━━━━━━\u001b[0m\u001b[37m\u001b[0m \u001b[1m3s\u001b[0m 56ms/step - loss: 1.8113e-04\n",
      "Epoch 41/50\n",
      "\u001b[1m52/52\u001b[0m \u001b[32m━━━━━━━━━━━━━━━━━━━━\u001b[0m\u001b[37m\u001b[0m \u001b[1m4s\u001b[0m 67ms/step - loss: 1.6949e-04\n",
      "Epoch 42/50\n",
      "\u001b[1m52/52\u001b[0m \u001b[32m━━━━━━━━━━━━━━━━━━━━\u001b[0m\u001b[37m\u001b[0m \u001b[1m4s\u001b[0m 71ms/step - loss: 2.2640e-04\n",
      "Epoch 43/50\n",
      "\u001b[1m52/52\u001b[0m \u001b[32m━━━━━━━━━━━━━━━━━━━━\u001b[0m\u001b[37m\u001b[0m \u001b[1m4s\u001b[0m 71ms/step - loss: 3.5701e-04\n",
      "Epoch 44/50\n",
      "\u001b[1m52/52\u001b[0m \u001b[32m━━━━━━━━━━━━━━━━━━━━\u001b[0m\u001b[37m\u001b[0m \u001b[1m4s\u001b[0m 70ms/step - loss: 1.6583e-04\n",
      "Epoch 45/50\n",
      "\u001b[1m52/52\u001b[0m \u001b[32m━━━━━━━━━━━━━━━━━━━━\u001b[0m\u001b[37m\u001b[0m \u001b[1m4s\u001b[0m 75ms/step - loss: 1.9030e-04\n",
      "Epoch 46/50\n",
      "\u001b[1m52/52\u001b[0m \u001b[32m━━━━━━━━━━━━━━━━━━━━\u001b[0m\u001b[37m\u001b[0m \u001b[1m3s\u001b[0m 60ms/step - loss: 1.6106e-04\n",
      "Epoch 47/50\n",
      "\u001b[1m52/52\u001b[0m \u001b[32m━━━━━━━━━━━━━━━━━━━━\u001b[0m\u001b[37m\u001b[0m \u001b[1m3s\u001b[0m 58ms/step - loss: 1.8762e-04\n",
      "Epoch 48/50\n",
      "\u001b[1m52/52\u001b[0m \u001b[32m━━━━━━━━━━━━━━━━━━━━\u001b[0m\u001b[37m\u001b[0m \u001b[1m3s\u001b[0m 57ms/step - loss: 1.7471e-04\n",
      "Epoch 49/50\n",
      "\u001b[1m52/52\u001b[0m \u001b[32m━━━━━━━━━━━━━━━━━━━━\u001b[0m\u001b[37m\u001b[0m \u001b[1m3s\u001b[0m 57ms/step - loss: 1.7821e-04\n",
      "Epoch 50/50\n",
      "\u001b[1m52/52\u001b[0m \u001b[32m━━━━━━━━━━━━━━━━━━━━\u001b[0m\u001b[37m\u001b[0m \u001b[1m3s\u001b[0m 57ms/step - loss: 1.6884e-04\n"
     ]
    },
    {
     "data": {
      "text/plain": [
       "<keras.src.callbacks.history.History at 0x1f4f3118980>"
      ]
     },
     "execution_count": 44,
     "metadata": {},
     "output_type": "execute_result"
    }
   ],
   "source": [
    "model.compile(optimizer='adam',loss='mean_squared_error')\n",
    "model.fit(x_train,y_train,epochs=50)"
   ]
  },
  {
   "cell_type": "code",
   "execution_count": 46,
   "id": "f44697e1-3e69-4512-aa93-02adf93e74a2",
   "metadata": {},
   "outputs": [
    {
     "data": {
      "text/html": [
       "<pre style=\"white-space:pre;overflow-x:auto;line-height:normal;font-family:Menlo,'DejaVu Sans Mono',consolas,'Courier New',monospace\"><span style=\"font-weight: bold\">Model: \"sequential_2\"</span>\n",
       "</pre>\n"
      ],
      "text/plain": [
       "\u001b[1mModel: \"sequential_2\"\u001b[0m\n"
      ]
     },
     "metadata": {},
     "output_type": "display_data"
    },
    {
     "data": {
      "text/html": [
       "<pre style=\"white-space:pre;overflow-x:auto;line-height:normal;font-family:Menlo,'DejaVu Sans Mono',consolas,'Courier New',monospace\">┏━━━━━━━━━━━━━━━━━━━━━━━━━━━━━━━┳━━━━━━━━━━━━━━━━━━━━━━━┳━━━━━━━━━━━━━━┓\n",
       "┃<span style=\"font-weight: bold\"> Layer (type)                  </span>┃<span style=\"font-weight: bold\"> Output Shape          </span>┃<span style=\"font-weight: bold\">      Param # </span>┃\n",
       "┡━━━━━━━━━━━━━━━━━━━━━━━━━━━━━━━╇━━━━━━━━━━━━━━━━━━━━━━━╇━━━━━━━━━━━━━━┩\n",
       "│ lstm_4 (<span style=\"color: #0087ff; text-decoration-color: #0087ff\">LSTM</span>)                 │ (<span style=\"color: #00d7ff; text-decoration-color: #00d7ff\">None</span>, <span style=\"color: #00af00; text-decoration-color: #00af00\">100</span>, <span style=\"color: #00af00; text-decoration-color: #00af00\">128</span>)      │       <span style=\"color: #00af00; text-decoration-color: #00af00\">66,560</span> │\n",
       "├───────────────────────────────┼───────────────────────┼──────────────┤\n",
       "│ lstm_5 (<span style=\"color: #0087ff; text-decoration-color: #0087ff\">LSTM</span>)                 │ (<span style=\"color: #00d7ff; text-decoration-color: #00d7ff\">None</span>, <span style=\"color: #00af00; text-decoration-color: #00af00\">64</span>)            │       <span style=\"color: #00af00; text-decoration-color: #00af00\">49,408</span> │\n",
       "├───────────────────────────────┼───────────────────────┼──────────────┤\n",
       "│ dense_3 (<span style=\"color: #0087ff; text-decoration-color: #0087ff\">Dense</span>)               │ (<span style=\"color: #00d7ff; text-decoration-color: #00d7ff\">None</span>, <span style=\"color: #00af00; text-decoration-color: #00af00\">25</span>)            │        <span style=\"color: #00af00; text-decoration-color: #00af00\">1,625</span> │\n",
       "├───────────────────────────────┼───────────────────────┼──────────────┤\n",
       "│ dense_4 (<span style=\"color: #0087ff; text-decoration-color: #0087ff\">Dense</span>)               │ (<span style=\"color: #00d7ff; text-decoration-color: #00d7ff\">None</span>, <span style=\"color: #00af00; text-decoration-color: #00af00\">1</span>)             │           <span style=\"color: #00af00; text-decoration-color: #00af00\">26</span> │\n",
       "└───────────────────────────────┴───────────────────────┴──────────────┘\n",
       "</pre>\n"
      ],
      "text/plain": [
       "┏━━━━━━━━━━━━━━━━━━━━━━━━━━━━━━━┳━━━━━━━━━━━━━━━━━━━━━━━┳━━━━━━━━━━━━━━┓\n",
       "┃\u001b[1m \u001b[0m\u001b[1mLayer (type)                 \u001b[0m\u001b[1m \u001b[0m┃\u001b[1m \u001b[0m\u001b[1mOutput Shape         \u001b[0m\u001b[1m \u001b[0m┃\u001b[1m \u001b[0m\u001b[1m     Param #\u001b[0m\u001b[1m \u001b[0m┃\n",
       "┡━━━━━━━━━━━━━━━━━━━━━━━━━━━━━━━╇━━━━━━━━━━━━━━━━━━━━━━━╇━━━━━━━━━━━━━━┩\n",
       "│ lstm_4 (\u001b[38;5;33mLSTM\u001b[0m)                 │ (\u001b[38;5;45mNone\u001b[0m, \u001b[38;5;34m100\u001b[0m, \u001b[38;5;34m128\u001b[0m)      │       \u001b[38;5;34m66,560\u001b[0m │\n",
       "├───────────────────────────────┼───────────────────────┼──────────────┤\n",
       "│ lstm_5 (\u001b[38;5;33mLSTM\u001b[0m)                 │ (\u001b[38;5;45mNone\u001b[0m, \u001b[38;5;34m64\u001b[0m)            │       \u001b[38;5;34m49,408\u001b[0m │\n",
       "├───────────────────────────────┼───────────────────────┼──────────────┤\n",
       "│ dense_3 (\u001b[38;5;33mDense\u001b[0m)               │ (\u001b[38;5;45mNone\u001b[0m, \u001b[38;5;34m25\u001b[0m)            │        \u001b[38;5;34m1,625\u001b[0m │\n",
       "├───────────────────────────────┼───────────────────────┼──────────────┤\n",
       "│ dense_4 (\u001b[38;5;33mDense\u001b[0m)               │ (\u001b[38;5;45mNone\u001b[0m, \u001b[38;5;34m1\u001b[0m)             │           \u001b[38;5;34m26\u001b[0m │\n",
       "└───────────────────────────────┴───────────────────────┴──────────────┘\n"
      ]
     },
     "metadata": {},
     "output_type": "display_data"
    },
    {
     "data": {
      "text/html": [
       "<pre style=\"white-space:pre;overflow-x:auto;line-height:normal;font-family:Menlo,'DejaVu Sans Mono',consolas,'Courier New',monospace\"><span style=\"font-weight: bold\"> Total params: </span><span style=\"color: #00af00; text-decoration-color: #00af00\">352,859</span> (1.35 MB)\n",
       "</pre>\n"
      ],
      "text/plain": [
       "\u001b[1m Total params: \u001b[0m\u001b[38;5;34m352,859\u001b[0m (1.35 MB)\n"
      ]
     },
     "metadata": {},
     "output_type": "display_data"
    },
    {
     "data": {
      "text/html": [
       "<pre style=\"white-space:pre;overflow-x:auto;line-height:normal;font-family:Menlo,'DejaVu Sans Mono',consolas,'Courier New',monospace\"><span style=\"font-weight: bold\"> Trainable params: </span><span style=\"color: #00af00; text-decoration-color: #00af00\">117,619</span> (459.45 KB)\n",
       "</pre>\n"
      ],
      "text/plain": [
       "\u001b[1m Trainable params: \u001b[0m\u001b[38;5;34m117,619\u001b[0m (459.45 KB)\n"
      ]
     },
     "metadata": {},
     "output_type": "display_data"
    },
    {
     "data": {
      "text/html": [
       "<pre style=\"white-space:pre;overflow-x:auto;line-height:normal;font-family:Menlo,'DejaVu Sans Mono',consolas,'Courier New',monospace\"><span style=\"font-weight: bold\"> Non-trainable params: </span><span style=\"color: #00af00; text-decoration-color: #00af00\">0</span> (0.00 B)\n",
       "</pre>\n"
      ],
      "text/plain": [
       "\u001b[1m Non-trainable params: \u001b[0m\u001b[38;5;34m0\u001b[0m (0.00 B)\n"
      ]
     },
     "metadata": {},
     "output_type": "display_data"
    },
    {
     "data": {
      "text/html": [
       "<pre style=\"white-space:pre;overflow-x:auto;line-height:normal;font-family:Menlo,'DejaVu Sans Mono',consolas,'Courier New',monospace\"><span style=\"font-weight: bold\"> Optimizer params: </span><span style=\"color: #00af00; text-decoration-color: #00af00\">235,240</span> (918.91 KB)\n",
       "</pre>\n"
      ],
      "text/plain": [
       "\u001b[1m Optimizer params: \u001b[0m\u001b[38;5;34m235,240\u001b[0m (918.91 KB)\n"
      ]
     },
     "metadata": {},
     "output_type": "display_data"
    }
   ],
   "source": [
    "model.summary()"
   ]
  },
  {
   "cell_type": "code",
   "execution_count": 48,
   "id": "b1fcd9cf-3c88-4aee-912a-038cc7a361cb",
   "metadata": {},
   "outputs": [],
   "source": [
    "#save the train model\n",
    "model.save('Stock_Prediction_model.keras')"
   ]
  },
  {
   "cell_type": "markdown",
   "id": "e1400205-c316-46e3-84f0-0d7db618de8e",
   "metadata": {},
   "source": [
    "8.Preparing test data"
   ]
  },
  {
   "cell_type": "code",
   "execution_count": 50,
   "id": "63f2893b-2ea0-47df-aacb-42b552653d17",
   "metadata": {},
   "outputs": [
    {
     "data": {
      "text/html": [
       "<div>\n",
       "<style scoped>\n",
       "    .dataframe tbody tr th:only-of-type {\n",
       "        vertical-align: middle;\n",
       "    }\n",
       "\n",
       "    .dataframe tbody tr th {\n",
       "        vertical-align: top;\n",
       "    }\n",
       "\n",
       "    .dataframe thead th {\n",
       "        text-align: right;\n",
       "    }\n",
       "</style>\n",
       "<table border=\"1\" class=\"dataframe\">\n",
       "  <thead>\n",
       "    <tr style=\"text-align: right;\">\n",
       "      <th>Ticker</th>\n",
       "      <th>AAPL</th>\n",
       "    </tr>\n",
       "  </thead>\n",
       "  <tbody>\n",
       "    <tr>\n",
       "      <th>0</th>\n",
       "      <td>23.1737</td>\n",
       "    </tr>\n",
       "  </tbody>\n",
       "</table>\n",
       "</div>"
      ],
      "text/plain": [
       "Ticker     AAPL\n",
       "0       23.1737"
      ]
     },
     "execution_count": 50,
     "metadata": {},
     "output_type": "execute_result"
    }
   ],
   "source": [
    "data_testing"
   ]
  },
  {
   "cell_type": "code",
   "execution_count": 52,
   "id": "7fbd5451-8893-4a1e-96f0-196231ef737d",
   "metadata": {},
   "outputs": [
    {
     "data": {
      "text/html": [
       "<div>\n",
       "<style scoped>\n",
       "    .dataframe tbody tr th:only-of-type {\n",
       "        vertical-align: middle;\n",
       "    }\n",
       "\n",
       "    .dataframe tbody tr th {\n",
       "        vertical-align: top;\n",
       "    }\n",
       "\n",
       "    .dataframe thead th {\n",
       "        text-align: right;\n",
       "    }\n",
       "</style>\n",
       "<table border=\"1\" class=\"dataframe\">\n",
       "  <thead>\n",
       "    <tr style=\"text-align: right;\">\n",
       "      <th>Ticker</th>\n",
       "      <th>AAPL</th>\n",
       "    </tr>\n",
       "  </thead>\n",
       "  <tbody>\n",
       "    <tr>\n",
       "      <th>1560</th>\n",
       "      <td>146.865692</td>\n",
       "    </tr>\n",
       "    <tr>\n",
       "      <th>1561</th>\n",
       "      <td>148.304810</td>\n",
       "    </tr>\n",
       "    <tr>\n",
       "      <th>1562</th>\n",
       "      <td>147.785919</td>\n",
       "    </tr>\n",
       "    <tr>\n",
       "      <th>1563</th>\n",
       "      <td>148.315353</td>\n",
       "    </tr>\n",
       "    <tr>\n",
       "      <th>1564</th>\n",
       "      <td>147.491821</td>\n",
       "    </tr>\n",
       "    <tr>\n",
       "      <th>...</th>\n",
       "      <td>...</td>\n",
       "    </tr>\n",
       "    <tr>\n",
       "      <th>1755</th>\n",
       "      <td>169.425537</td>\n",
       "    </tr>\n",
       "    <tr>\n",
       "      <th>1756</th>\n",
       "      <td>170.498596</td>\n",
       "    </tr>\n",
       "    <tr>\n",
       "      <th>1757</th>\n",
       "      <td>170.341095</td>\n",
       "    </tr>\n",
       "    <tr>\n",
       "      <th>1758</th>\n",
       "      <td>171.837448</td>\n",
       "    </tr>\n",
       "    <tr>\n",
       "      <th>1759</th>\n",
       "      <td>171.443680</td>\n",
       "    </tr>\n",
       "  </tbody>\n",
       "</table>\n",
       "<p>200 rows × 1 columns</p>\n",
       "</div>"
      ],
      "text/plain": [
       "Ticker        AAPL\n",
       "1560    146.865692\n",
       "1561    148.304810\n",
       "1562    147.785919\n",
       "1563    148.315353\n",
       "1564    147.491821\n",
       "...            ...\n",
       "1755    169.425537\n",
       "1756    170.498596\n",
       "1757    170.341095\n",
       "1758    171.837448\n",
       "1759    171.443680\n",
       "\n",
       "[200 rows x 1 columns]"
      ]
     },
     "execution_count": 52,
     "metadata": {},
     "output_type": "execute_result"
    }
   ],
   "source": [
    "data_training.tail(200)"
   ]
  },
  {
   "cell_type": "code",
   "execution_count": 53,
   "id": "c1e8a573-6f34-49b0-b615-0535794b3786",
   "metadata": {},
   "outputs": [],
   "source": [
    "past_100_days=data_training.tail(150)"
   ]
  },
  {
   "cell_type": "code",
   "execution_count": 54,
   "id": "60acf579-2da4-4e35-8fab-fb3c705e1074",
   "metadata": {},
   "outputs": [
    {
     "data": {
      "text/html": [
       "<div>\n",
       "<style scoped>\n",
       "    .dataframe tbody tr th:only-of-type {\n",
       "        vertical-align: middle;\n",
       "    }\n",
       "\n",
       "    .dataframe tbody tr th {\n",
       "        vertical-align: top;\n",
       "    }\n",
       "\n",
       "    .dataframe thead th {\n",
       "        text-align: right;\n",
       "    }\n",
       "</style>\n",
       "<table border=\"1\" class=\"dataframe\">\n",
       "  <thead>\n",
       "    <tr style=\"text-align: right;\">\n",
       "      <th>Ticker</th>\n",
       "      <th>AAPL</th>\n",
       "    </tr>\n",
       "  </thead>\n",
       "  <tbody>\n",
       "    <tr>\n",
       "      <th>1610</th>\n",
       "      <td>168.815567</td>\n",
       "    </tr>\n",
       "    <tr>\n",
       "      <th>1611</th>\n",
       "      <td>169.678375</td>\n",
       "    </tr>\n",
       "    <tr>\n",
       "      <th>1612</th>\n",
       "      <td>166.472412</td>\n",
       "    </tr>\n",
       "    <tr>\n",
       "      <th>1613</th>\n",
       "      <td>162.972366</td>\n",
       "    </tr>\n",
       "    <tr>\n",
       "      <th>1614</th>\n",
       "      <td>161.286072</td>\n",
       "    </tr>\n",
       "    <tr>\n",
       "      <th>...</th>\n",
       "      <td>...</td>\n",
       "    </tr>\n",
       "    <tr>\n",
       "      <th>1755</th>\n",
       "      <td>169.425537</td>\n",
       "    </tr>\n",
       "    <tr>\n",
       "      <th>1756</th>\n",
       "      <td>170.498596</td>\n",
       "    </tr>\n",
       "    <tr>\n",
       "      <th>1757</th>\n",
       "      <td>170.341095</td>\n",
       "    </tr>\n",
       "    <tr>\n",
       "      <th>1758</th>\n",
       "      <td>171.837448</td>\n",
       "    </tr>\n",
       "    <tr>\n",
       "      <th>1759</th>\n",
       "      <td>171.443680</td>\n",
       "    </tr>\n",
       "  </tbody>\n",
       "</table>\n",
       "<p>150 rows × 1 columns</p>\n",
       "</div>"
      ],
      "text/plain": [
       "Ticker        AAPL\n",
       "1610    168.815567\n",
       "1611    169.678375\n",
       "1612    166.472412\n",
       "1613    162.972366\n",
       "1614    161.286072\n",
       "...            ...\n",
       "1755    169.425537\n",
       "1756    170.498596\n",
       "1757    170.341095\n",
       "1758    171.837448\n",
       "1759    171.443680\n",
       "\n",
       "[150 rows x 1 columns]"
      ]
     },
     "execution_count": 54,
     "metadata": {},
     "output_type": "execute_result"
    }
   ],
   "source": [
    "past_100_days\n"
   ]
  },
  {
   "cell_type": "code",
   "execution_count": 55,
   "id": "85cfa5b6-5a4a-4abb-81a9-29c769fc9b90",
   "metadata": {},
   "outputs": [
    {
     "data": {
      "text/html": [
       "<div>\n",
       "<style scoped>\n",
       "    .dataframe tbody tr th:only-of-type {\n",
       "        vertical-align: middle;\n",
       "    }\n",
       "\n",
       "    .dataframe tbody tr th {\n",
       "        vertical-align: top;\n",
       "    }\n",
       "\n",
       "    .dataframe thead th {\n",
       "        text-align: right;\n",
       "    }\n",
       "</style>\n",
       "<table border=\"1\" class=\"dataframe\">\n",
       "  <thead>\n",
       "    <tr style=\"text-align: right;\">\n",
       "      <th>Ticker</th>\n",
       "      <th>AAPL</th>\n",
       "    </tr>\n",
       "  </thead>\n",
       "  <tbody>\n",
       "    <tr>\n",
       "      <th>0</th>\n",
       "      <td>168.815567</td>\n",
       "    </tr>\n",
       "    <tr>\n",
       "      <th>1</th>\n",
       "      <td>169.678375</td>\n",
       "    </tr>\n",
       "    <tr>\n",
       "      <th>2</th>\n",
       "      <td>166.472412</td>\n",
       "    </tr>\n",
       "    <tr>\n",
       "      <th>3</th>\n",
       "      <td>162.972366</td>\n",
       "    </tr>\n",
       "    <tr>\n",
       "      <th>4</th>\n",
       "      <td>161.286072</td>\n",
       "    </tr>\n",
       "    <tr>\n",
       "      <th>...</th>\n",
       "      <td>...</td>\n",
       "    </tr>\n",
       "    <tr>\n",
       "      <th>146</th>\n",
       "      <td>170.498596</td>\n",
       "    </tr>\n",
       "    <tr>\n",
       "      <th>147</th>\n",
       "      <td>170.341095</td>\n",
       "    </tr>\n",
       "    <tr>\n",
       "      <th>148</th>\n",
       "      <td>171.837448</td>\n",
       "    </tr>\n",
       "    <tr>\n",
       "      <th>149</th>\n",
       "      <td>171.443680</td>\n",
       "    </tr>\n",
       "    <tr>\n",
       "      <th>150</th>\n",
       "      <td>23.173700</td>\n",
       "    </tr>\n",
       "  </tbody>\n",
       "</table>\n",
       "<p>151 rows × 1 columns</p>\n",
       "</div>"
      ],
      "text/plain": [
       "Ticker        AAPL\n",
       "0       168.815567\n",
       "1       169.678375\n",
       "2       166.472412\n",
       "3       162.972366\n",
       "4       161.286072\n",
       "..             ...\n",
       "146     170.498596\n",
       "147     170.341095\n",
       "148     171.837448\n",
       "149     171.443680\n",
       "150      23.173700\n",
       "\n",
       "[151 rows x 1 columns]"
      ]
     },
     "execution_count": 55,
     "metadata": {},
     "output_type": "execute_result"
    }
   ],
   "source": [
    "final_df=pd.concat([past_100_days,data_testing],ignore_index=True)\n",
    "final_df"
   ]
  },
  {
   "cell_type": "code",
   "execution_count": 57,
   "id": "6f0ba566-b920-4b1a-b8d4-ebd9988a0a33",
   "metadata": {},
   "outputs": [
    {
     "data": {
      "text/plain": [
       "array([[0.9550114 ],\n",
       "       [0.96066905],\n",
       "       [0.93964673],\n",
       "       [0.91669602],\n",
       "       [0.90563855],\n",
       "       [0.89213842],\n",
       "       [0.88705968],\n",
       "       [0.87523058],\n",
       "       [0.87465196],\n",
       "       [0.87163047],\n",
       "       [0.94305403],\n",
       "       [0.97166179],\n",
       "       [0.97056898],\n",
       "       [0.97847639],\n",
       "       [0.95957574],\n",
       "       [0.9577094 ],\n",
       "       [0.95301028],\n",
       "       [0.97341547],\n",
       "       [0.98274897],\n",
       "       [0.95597123],\n",
       "       [0.93357073],\n",
       "       [0.9351155 ],\n",
       "       [0.96028374],\n",
       "       [0.95873898],\n",
       "       [0.9351155 ],\n",
       "       [0.92494512],\n",
       "       [0.90576312],\n",
       "       [0.87840616],\n",
       "       [0.89559284],\n",
       "       [0.90917472],\n",
       "       [0.91091249],\n",
       "       [0.8985537 ],\n",
       "       [0.92018166],\n",
       "       [0.91805738],\n",
       "       [0.89836049],\n",
       "       [0.87344949],\n",
       "       [0.86147691],\n",
       "       [0.8969445 ],\n",
       "       [0.86842879],\n",
       "       [0.84403278],\n",
       "       [0.81757671],\n",
       "       [0.84634997],\n",
       "       [0.87531633],\n",
       "       [0.88194633],\n",
       "       [0.9035744 ],\n",
       "       [0.91258613],\n",
       "       [0.93472928],\n",
       "       [0.94367657],\n",
       "       [0.96852334],\n",
       "       [0.97270747],\n",
       "       [0.97837173],\n",
       "       [1.        ],\n",
       "       [0.99234013],\n",
       "       [0.97199948],\n",
       "       [0.9700682 ],\n",
       "       [0.99665273],\n",
       "       [0.97489589],\n",
       "       [0.95410459],\n",
       "       [0.95609981],\n",
       "       [0.94290424],\n",
       "       [0.91496796],\n",
       "       [0.92726242],\n",
       "       [0.94489966],\n",
       "       [0.9120069 ],\n",
       "       [0.91059081],\n",
       "       [0.92558888],\n",
       "       [0.92449457],\n",
       "       [0.91928036],\n",
       "       [0.88947753],\n",
       "       [0.89649385],\n",
       "       [0.85735721],\n",
       "       [0.85587668],\n",
       "       [0.90138588],\n",
       "       [0.86282856],\n",
       "       [0.86482398],\n",
       "       [0.87460824],\n",
       "       [0.91670572],\n",
       "       [0.8571641 ],\n",
       "       [0.86193436],\n",
       "       [0.82828419],\n",
       "       [0.8440777 ],\n",
       "       [0.79244229],\n",
       "       [0.76704332],\n",
       "       [0.79637438],\n",
       "       [0.78625364],\n",
       "       [0.81010545],\n",
       "       [0.75582676],\n",
       "       [0.73345778],\n",
       "       [0.73500474],\n",
       "       [0.7705889 ],\n",
       "       [0.75286141],\n",
       "       [0.75389268],\n",
       "       [0.77490791],\n",
       "       [0.81268388],\n",
       "       [0.80752691],\n",
       "       [0.80668874],\n",
       "       [0.82280483],\n",
       "       [0.78522236],\n",
       "       [0.7901216 ],\n",
       "       [0.80668874],\n",
       "       [0.80185384],\n",
       "       [0.76755911],\n",
       "       [0.73203939],\n",
       "       [0.6981957 ],\n",
       "       [0.70386857],\n",
       "       [0.72108047],\n",
       "       [0.68646326],\n",
       "       [0.69613285],\n",
       "       [0.72391696],\n",
       "       [0.72056489],\n",
       "       [0.73938799],\n",
       "       [0.76124168],\n",
       "       [0.76124168],\n",
       "       [0.7340379 ],\n",
       "       [0.74557684],\n",
       "       [0.72939641],\n",
       "       [0.74364276],\n",
       "       [0.76059702],\n",
       "       [0.76936401],\n",
       "       [0.79147525],\n",
       "       [0.79592323],\n",
       "       [0.78193463],\n",
       "       [0.78831669],\n",
       "       [0.78593126],\n",
       "       [0.80514158],\n",
       "       [0.81610039],\n",
       "       [0.79611684],\n",
       "       [0.82145118],\n",
       "       [0.83460171],\n",
       "       [0.84949292],\n",
       "       [0.84137039],\n",
       "       [0.83402149],\n",
       "       [0.82531873],\n",
       "       [0.8587755 ],\n",
       "       [0.86238552],\n",
       "       [0.89564908],\n",
       "       [0.88920258],\n",
       "       [0.87953318],\n",
       "       [0.9189851 ],\n",
       "       [0.91692225],\n",
       "       [0.91543772],\n",
       "       [0.91233899],\n",
       "       [0.91266167],\n",
       "       [0.94054903],\n",
       "       [0.93570743],\n",
       "       [0.95901113],\n",
       "       [0.96604746],\n",
       "       [0.96501468],\n",
       "       [0.97482665],\n",
       "       [0.97224461],\n",
       "       [0.        ]])"
      ]
     },
     "execution_count": 57,
     "metadata": {},
     "output_type": "execute_result"
    }
   ],
   "source": [
    "input_data= scaler.fit_transform(final_df)\n",
    "input_data"
   ]
  },
  {
   "cell_type": "code",
   "execution_count": 58,
   "id": "2fd77e32-5640-4f84-9069-95abd26e39ab",
   "metadata": {},
   "outputs": [
    {
     "data": {
      "text/plain": [
       "(151, 1)"
      ]
     },
     "execution_count": 58,
     "metadata": {},
     "output_type": "execute_result"
    }
   ],
   "source": [
    "input_data.shape"
   ]
  },
  {
   "cell_type": "code",
   "execution_count": 59,
   "id": "d7914132-f86a-4fb4-8166-0770a36d8f50",
   "metadata": {},
   "outputs": [],
   "source": [
    "x_test=[]\n",
    "y_test=[]\n",
    "for i in range(100,input_data.shape[0]):\n",
    "    x_test.append(input_data[i-100: i])\n",
    "    y_test.append(input_data[i,0])\n",
    "    "
   ]
  },
  {
   "cell_type": "code",
   "execution_count": 61,
   "id": "3eddd388-9370-4f2a-aebf-81018e690dde",
   "metadata": {},
   "outputs": [],
   "source": [
    "x_test,y_test=np.array(x_test),np.array(y_test)\n"
   ]
  },
  {
   "cell_type": "code",
   "execution_count": 62,
   "id": "460f904a-da4d-44a3-a0f5-6339e05b383b",
   "metadata": {},
   "outputs": [
    {
     "data": {
      "text/plain": [
       "array([[[0.9550114 ],\n",
       "        [0.96066905],\n",
       "        [0.93964673],\n",
       "        ...,\n",
       "        [0.78522236],\n",
       "        [0.7901216 ],\n",
       "        [0.80668874]],\n",
       "\n",
       "       [[0.96066905],\n",
       "        [0.93964673],\n",
       "        [0.91669602],\n",
       "        ...,\n",
       "        [0.7901216 ],\n",
       "        [0.80668874],\n",
       "        [0.80185384]],\n",
       "\n",
       "       [[0.93964673],\n",
       "        [0.91669602],\n",
       "        [0.90563855],\n",
       "        ...,\n",
       "        [0.80668874],\n",
       "        [0.80185384],\n",
       "        [0.76755911]],\n",
       "\n",
       "       ...,\n",
       "\n",
       "       [[0.96852334],\n",
       "        [0.97270747],\n",
       "        [0.97837173],\n",
       "        ...,\n",
       "        [0.95901113],\n",
       "        [0.96604746],\n",
       "        [0.96501468]],\n",
       "\n",
       "       [[0.97270747],\n",
       "        [0.97837173],\n",
       "        [1.        ],\n",
       "        ...,\n",
       "        [0.96604746],\n",
       "        [0.96501468],\n",
       "        [0.97482665]],\n",
       "\n",
       "       [[0.97837173],\n",
       "        [1.        ],\n",
       "        [0.99234013],\n",
       "        ...,\n",
       "        [0.96501468],\n",
       "        [0.97482665],\n",
       "        [0.97224461]]], shape=(51, 100, 1))"
      ]
     },
     "execution_count": 62,
     "metadata": {},
     "output_type": "execute_result"
    }
   ],
   "source": [
    "x_test"
   ]
  },
  {
   "cell_type": "code",
   "execution_count": 63,
   "id": "246a4f5f-a532-4282-8530-95a9d51eca70",
   "metadata": {},
   "outputs": [
    {
     "data": {
      "text/plain": [
       "array([0.80185384, 0.76755911, 0.73203939, 0.6981957 , 0.70386857,\n",
       "       0.72108047, 0.68646326, 0.69613285, 0.72391696, 0.72056489,\n",
       "       0.73938799, 0.76124168, 0.76124168, 0.7340379 , 0.74557684,\n",
       "       0.72939641, 0.74364276, 0.76059702, 0.76936401, 0.79147525,\n",
       "       0.79592323, 0.78193463, 0.78831669, 0.78593126, 0.80514158,\n",
       "       0.81610039, 0.79611684, 0.82145118, 0.83460171, 0.84949292,\n",
       "       0.84137039, 0.83402149, 0.82531873, 0.8587755 , 0.86238552,\n",
       "       0.89564908, 0.88920258, 0.87953318, 0.9189851 , 0.91692225,\n",
       "       0.91543772, 0.91233899, 0.91266167, 0.94054903, 0.93570743,\n",
       "       0.95901113, 0.96604746, 0.96501468, 0.97482665, 0.97224461,\n",
       "       0.        ])"
      ]
     },
     "execution_count": 63,
     "metadata": {},
     "output_type": "execute_result"
    }
   ],
   "source": [
    "y_test"
   ]
  },
  {
   "cell_type": "markdown",
   "id": "57853fe5-2b33-4be2-991a-45eae83ff4fd",
   "metadata": {},
   "source": [
    "9.Making prediction"
   ]
  },
  {
   "cell_type": "code",
   "execution_count": 64,
   "id": "3da12e16-661a-40e4-8488-c470dd8529da",
   "metadata": {},
   "outputs": [
    {
     "name": "stdout",
     "output_type": "stream",
     "text": [
      "\u001b[1m2/2\u001b[0m \u001b[32m━━━━━━━━━━━━━━━━━━━━\u001b[0m\u001b[37m\u001b[0m \u001b[1m1s\u001b[0m 277ms/step\n"
     ]
    },
    {
     "data": {
      "text/plain": [
       "array([[0.7788573 ],\n",
       "       [0.7832804 ],\n",
       "       [0.7647775 ],\n",
       "       [0.7324853 ],\n",
       "       [0.69751775],\n",
       "       [0.68659884],\n",
       "       [0.69731534],\n",
       "       [0.6874276 ],\n",
       "       [0.68516237],\n",
       "       [0.7011794 ],\n",
       "       [0.7096103 ],\n",
       "       [0.7219267 ],\n",
       "       [0.7396301 ],\n",
       "       [0.7473696 ],\n",
       "       [0.7319368 ],\n",
       "       [0.7267193 ],\n",
       "       [0.71685153],\n",
       "       [0.72039557],\n",
       "       [0.7349099 ],\n",
       "       [0.74894655],\n",
       "       [0.7679354 ],\n",
       "       [0.7792945 ],\n",
       "       [0.77377504],\n",
       "       [0.7713688 ],\n",
       "       [0.7691829 ],\n",
       "       [0.7797457 ],\n",
       "       [0.7932433 ],\n",
       "       [0.7876249 ],\n",
       "       [0.7967538 ],\n",
       "       [0.8109126 ],\n",
       "       [0.82646286],\n",
       "       [0.8278144 ],\n",
       "       [0.8208042 ],\n",
       "       [0.8108157 ],\n",
       "       [0.82649195],\n",
       "       [0.8398458 ],\n",
       "       [0.86516213],\n",
       "       [0.8731548 ],\n",
       "       [0.8665777 ],\n",
       "       [0.88499326],\n",
       "       [0.89484245],\n",
       "       [0.89595985],\n",
       "       [0.8926134 ],\n",
       "       [0.8906163 ],\n",
       "       [0.9075965 ],\n",
       "       [0.9144505 ],\n",
       "       [0.9299597 ],\n",
       "       [0.94140935],\n",
       "       [0.94389576],\n",
       "       [0.94899344],\n",
       "       [0.94923604]], dtype=float32)"
      ]
     },
     "execution_count": 64,
     "metadata": {},
     "output_type": "execute_result"
    }
   ],
   "source": [
    "y_predict=model.predict(x_test)\n",
    "y_predict"
   ]
  },
  {
   "cell_type": "code",
   "execution_count": 65,
   "id": "55325843-a11a-422b-8490-c135b396d0ec",
   "metadata": {},
   "outputs": [
    {
     "data": {
      "text/plain": [
       "array([[[0.9550114 ],\n",
       "        [0.96066905],\n",
       "        [0.93964673],\n",
       "        ...,\n",
       "        [0.78522236],\n",
       "        [0.7901216 ],\n",
       "        [0.80668874]],\n",
       "\n",
       "       [[0.96066905],\n",
       "        [0.93964673],\n",
       "        [0.91669602],\n",
       "        ...,\n",
       "        [0.7901216 ],\n",
       "        [0.80668874],\n",
       "        [0.80185384]],\n",
       "\n",
       "       [[0.93964673],\n",
       "        [0.91669602],\n",
       "        [0.90563855],\n",
       "        ...,\n",
       "        [0.80668874],\n",
       "        [0.80185384],\n",
       "        [0.76755911]],\n",
       "\n",
       "       ...,\n",
       "\n",
       "       [[0.96852334],\n",
       "        [0.97270747],\n",
       "        [0.97837173],\n",
       "        ...,\n",
       "        [0.95901113],\n",
       "        [0.96604746],\n",
       "        [0.96501468]],\n",
       "\n",
       "       [[0.97270747],\n",
       "        [0.97837173],\n",
       "        [1.        ],\n",
       "        ...,\n",
       "        [0.96604746],\n",
       "        [0.96501468],\n",
       "        [0.97482665]],\n",
       "\n",
       "       [[0.97837173],\n",
       "        [1.        ],\n",
       "        [0.99234013],\n",
       "        ...,\n",
       "        [0.96501468],\n",
       "        [0.97482665],\n",
       "        [0.97224461]]], shape=(51, 100, 1))"
      ]
     },
     "execution_count": 65,
     "metadata": {},
     "output_type": "execute_result"
    }
   ],
   "source": [
    "x_test"
   ]
  },
  {
   "cell_type": "code",
   "execution_count": 66,
   "id": "b27adcc7-2140-4030-9e34-c15087cb3609",
   "metadata": {},
   "outputs": [
    {
     "data": {
      "text/plain": [
       "array([141.95158, 142.62611, 139.80437, 134.87973, 129.54707, 127.88191,\n",
       "       129.5162 , 128.0083 , 127.66285, 130.10548, 131.39122, 133.26952,\n",
       "       135.96933, 137.14963, 134.79608, 134.0004 , 132.49553, 133.03601,\n",
       "       135.24948, 137.3901 , 140.28596, 142.01826, 141.17653, 140.80957,\n",
       "       140.47621, 142.08707, 144.1455 , 143.28867, 144.68085, 146.8401 ,\n",
       "       149.21156, 149.41768, 148.3486 , 146.82533, 149.216  , 151.2525 ,\n",
       "       155.11331, 156.3322 , 155.32918, 158.1376 , 159.63963, 159.81004,\n",
       "       159.2997 , 158.99513, 161.58466, 162.62993, 164.9951 , 166.74123,\n",
       "       167.12039, 167.89781, 167.93481], dtype=float32)"
      ]
     },
     "execution_count": 66,
     "metadata": {},
     "output_type": "execute_result"
    }
   ],
   "source": [
    "y_predict=scaler.inverse_transform(y_predict.reshape(-1,1)).flatten()\n",
    "y_test=scaler.inverse_transform(y_test.reshape(-1,1)).flatten()\n",
    "y_predict"
   ]
  },
  {
   "cell_type": "code",
   "execution_count": null,
   "id": "5e383aec-efc9-4a5e-bf52-baf2f7b3e309",
   "metadata": {},
   "outputs": [],
   "source": []
  },
  {
   "cell_type": "code",
   "execution_count": 75,
   "id": "8e858219-ab1b-4eea-bace-d7ff3820fa6b",
   "metadata": {},
   "outputs": [
    {
     "data": {
      "text/plain": [
       "<matplotlib.legend.Legend at 0x1f4fd68fb10>"
      ]
     },
     "execution_count": 75,
     "metadata": {},
     "output_type": "execute_result"
    },
    {
     "data": {
      "image/png": "[encoded data removed]",
      "text/plain": [
       "<Figure size 1200x600 with 1 Axes>"
      ]
     },
     "metadata": {},
     "output_type": "display_data"
    }
   ],
   "source": [
    "plt.figure(figsize=(12,6))\n",
    "plt.plot(y_test, 'b' ,label='Original Price')\n",
    "plt.plot(y_predict,'r',label='Predicted Price')\n",
    "plt.xlabel(\"Days\")\n",
    "plt.ylabel('Price')\n",
    "plt.legend()\n",
    "\n"
   ]
  },
  {
   "cell_type": "markdown",
   "id": "0e00660b-0728-4343-bf4f-073503f75488",
   "metadata": {},
   "source": [
    "10.Model evalution"
   ]
  },
  {
   "cell_type": "code",
   "execution_count": 80,
   "id": "6012e8aa-a97d-47e7-84ed-636b08f9bfbf",
   "metadata": {},
   "outputs": [
    {
     "name": "stdout",
     "output_type": "stream",
     "text": [
      "Mean Square Error(MSE):430.92372696247475\n"
     ]
    }
   ],
   "source": [
    "#Mean Square Error(MSE)\n",
    "from sklearn.metrics import mean_squared_error,r2_score\n",
    "\n",
    "mse=mean_squared_error(y_test,y_predict)\n",
    "print(f\"Mean Square Error(MSE):{mse}\")"
   ]
  },
  {
   "cell_type": "code",
   "execution_count": 78,
   "id": "00f923ab-865e-4fd3-9d5f-2b444e69c8c0",
   "metadata": {},
   "outputs": [
    {
     "name": "stdout",
     "output_type": "stream",
     "text": [
      "Root Mean Square Error(RMSE):20.75870243927772\n"
     ]
    }
   ],
   "source": [
    "#Root Mean Squared Error(RMSE)\n",
    "\n",
    "rmse=np.sqrt(mse)\n",
    "print(f\"Root Mean Square Error(RMSE):{rmse}\")"
   ]
  },
  {
   "cell_type": "code",
   "execution_count": 84,
   "id": "84b10726-960d-45fa-aab9-aac841f354c8",
   "metadata": {},
   "outputs": [
    {
     "name": "stdout",
     "output_type": "stream",
     "text": [
      "R-squared:0.06919731554562991\n"
     ]
    }
   ],
   "source": [
    "#R-squared\n",
    "r2=r2_score(y_test,y_predict)\n",
    "print(f\"R-squared:{r2}\")"
   ]
  },
  {
   "cell_type": "code",
   "execution_count": null,
   "id": "5110c335-0523-4f00-9d98-f804cd4b2d2f",
   "metadata": {},
   "outputs": [],
   "source": []
  }
 ],
 "metadata": {
  "kernelspec": {
   "display_name": "Python 3 (ipykernel)",
   "language": "python",
   "name": "python3"
  },
  "language_info": {
   "codemirror_mode": {
    "name": "ipython",
    "version": 3
   },
   "file_extension": ".py",
   "mimetype": "text/x-python",
   "name": "python",
   "nbconvert_exporter": "python",
   "pygments_lexer": "ipython3",
   "version": "3.13.5"
  }
 },
 "nbformat": 4,
 "nbformat_minor": 5
}
